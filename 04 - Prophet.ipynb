{
 "cells": [
  {
   "cell_type": "markdown",
   "id": "b439e9f5-5d3b-43d7-a0a5-c80aa1d0ba95",
   "metadata": {},
   "source": [
    "# **4. Prophet Model**"
   ]
  },
  {
   "cell_type": "code",
   "execution_count": 1,
   "id": "ab6172b0-2ee5-4202-8f82-8a0b7ef1d091",
   "metadata": {},
   "outputs": [],
   "source": [
    "# https://www.kaggle.com/code/armandodelahoya/walmart-sales-forecasting-prophet-model\n",
    "# https://www.kaggle.com/code/akritiupadhyayks/walmart-sales-forecasting-by-prophet-and-xgboost"
   ]
  },
  {
   "cell_type": "markdown",
   "id": "661fa373-7699-4a01-91ad-f78ee0dc420c",
   "metadata": {},
   "source": [
    "## Imports"
   ]
  },
  {
   "cell_type": "code",
   "execution_count": 47,
   "id": "554c8e9d-04b8-49f0-93ed-cfbf8e2f2789",
   "metadata": {
    "tags": []
   },
   "outputs": [],
   "source": [
    "import pandas as pd\n",
    "from datetime import datetime\n",
    "from zipfile import ZipFile\n",
    "\n",
    "#matplotlib configuration\n",
    "import seaborn as sns\n",
    "import matplotlib\n",
    "import matplotlib.pyplot as plt\n",
    "import matplotlib.style as style\n",
    "# %matplotlib inline\n",
    "\n",
    "# plt.style.use('fivethirtyeight')\n",
    "# plt.rcParams['lines.linewidth'] = 1.5\n",
    "# plt.rcParams['font.family'] = 'Trebuchet MS'\n",
    "\n",
    "# matplotlib.rcParams['font.size'] = 15\n",
    "# matplotlib.rcParams['figure.figsize'] = (8, 6)\n",
    "# matplotlib.rcParams['figure.facecolor'] = '#00000000'\n",
    "from xgboost import XGBRegressor\n",
    "\n",
    "from sklearn.model_selection import train_test_split, GridSearchCV, RandomizedSearchCV\n",
    "\n",
    "\n",
    "#Metrics\n",
    "from sklearn.metrics import mean_absolute_error, mean_absolute_percentage_error, mean_squared_error, r2_score"
   ]
  },
  {
   "cell_type": "code",
   "execution_count": 3,
   "id": "d6c45dcd-f4c4-417a-b503-93845e51dcb7",
   "metadata": {
    "tags": []
   },
   "outputs": [],
   "source": [
    "# Prophet\n",
    "from prophet import Prophet\n",
    "from prophet.plot import plot_plotly\n",
    "from prophet.plot import add_changepoints_to_plot\n",
    "from prophet.plot import plot_plotly, plot_components_plotly"
   ]
  },
  {
   "cell_type": "code",
   "execution_count": 38,
   "id": "4bf7b4ef-d889-411d-8f7c-10e83df73ab1",
   "metadata": {
    "tags": []
   },
   "outputs": [],
   "source": [
    "import matplotlib.pyplot as plt\n",
    "import pandas as pd\n",
    "import numpy as np\n",
    "import seaborn as sns\n",
    "\n",
    "from prophet import Prophet\n",
    "from sklearn.metrics import mean_squared_error, mean_absolute_error\n",
    "# plt.style.use('fivethirtyeight') # For plots\n",
    "\n",
    "#plotly configuration\n",
    "import plotly.offline as py"
   ]
  },
  {
   "cell_type": "code",
   "execution_count": 14,
   "id": "9b973b92-d9a8-4dc1-8ad3-a90f92677248",
   "metadata": {
    "tags": []
   },
   "outputs": [],
   "source": [
    "# Helper function for evalution metrics\n",
    "def evaluation_metrics(y_test,y_pred):\n",
    "    mse = mean_squared_error(y_test,y_pred)\n",
    "    rmse = np.sqrt(mse)\n",
    "    mae = mean_absolute_error(y_test,y_pred)\n",
    "    r2score = r2_score(y_test,y_pred)\n",
    "    \n",
    "    print(f'Mean Squared Error = {mse}')\n",
    "    print(f'Mean Absolute Error = {mae}')\n",
    "    print(f'Root Mean Squared Error = {rmse}')\n",
    "    print(f'r2 score = {r2score}')\n",
    "\n",
    "def rmse(a, b):\n",
    "    return mean_squared_error(a, b, squared=False)"
   ]
  },
  {
   "cell_type": "code",
   "execution_count": 5,
   "id": "51aa4aea-af01-454d-a73b-77a3baa82ac2",
   "metadata": {
    "tags": []
   },
   "outputs": [],
   "source": [
    "df = pd.read_csv('data/data_eda.csv')"
   ]
  },
  {
   "cell_type": "code",
   "execution_count": 6,
   "id": "4beacf6b-4ba2-44a7-8b23-1ba970f85d5c",
   "metadata": {
    "tags": []
   },
   "outputs": [
    {
     "data": {
      "text/html": [
       "<div>\n",
       "<style scoped>\n",
       "    .dataframe tbody tr th:only-of-type {\n",
       "        vertical-align: middle;\n",
       "    }\n",
       "\n",
       "    .dataframe tbody tr th {\n",
       "        vertical-align: top;\n",
       "    }\n",
       "\n",
       "    .dataframe thead th {\n",
       "        text-align: right;\n",
       "    }\n",
       "</style>\n",
       "<table border=\"1\" class=\"dataframe\">\n",
       "  <thead>\n",
       "    <tr style=\"text-align: right;\">\n",
       "      <th></th>\n",
       "      <th>Date</th>\n",
       "      <th>Store</th>\n",
       "      <th>Temperature</th>\n",
       "      <th>Fuel_Price</th>\n",
       "      <th>MarkDown1</th>\n",
       "      <th>MarkDown2</th>\n",
       "      <th>MarkDown3</th>\n",
       "      <th>MarkDown4</th>\n",
       "      <th>MarkDown5</th>\n",
       "      <th>CPI</th>\n",
       "      <th>Unemployment</th>\n",
       "      <th>IsHoliday</th>\n",
       "      <th>Dept</th>\n",
       "      <th>Weekly_Sales</th>\n",
       "      <th>Type</th>\n",
       "      <th>Size</th>\n",
       "    </tr>\n",
       "  </thead>\n",
       "  <tbody>\n",
       "    <tr>\n",
       "      <th>0</th>\n",
       "      <td>2010-02-05</td>\n",
       "      <td>1</td>\n",
       "      <td>42.31</td>\n",
       "      <td>2.572</td>\n",
       "      <td>0.0</td>\n",
       "      <td>0.0</td>\n",
       "      <td>0.0</td>\n",
       "      <td>0.0</td>\n",
       "      <td>0.0</td>\n",
       "      <td>211.096358</td>\n",
       "      <td>8.106</td>\n",
       "      <td>False</td>\n",
       "      <td>1</td>\n",
       "      <td>24924.50</td>\n",
       "      <td>A</td>\n",
       "      <td>151315</td>\n",
       "    </tr>\n",
       "    <tr>\n",
       "      <th>1</th>\n",
       "      <td>2010-02-05</td>\n",
       "      <td>1</td>\n",
       "      <td>42.31</td>\n",
       "      <td>2.572</td>\n",
       "      <td>0.0</td>\n",
       "      <td>0.0</td>\n",
       "      <td>0.0</td>\n",
       "      <td>0.0</td>\n",
       "      <td>0.0</td>\n",
       "      <td>211.096358</td>\n",
       "      <td>8.106</td>\n",
       "      <td>False</td>\n",
       "      <td>2</td>\n",
       "      <td>50605.27</td>\n",
       "      <td>A</td>\n",
       "      <td>151315</td>\n",
       "    </tr>\n",
       "    <tr>\n",
       "      <th>2</th>\n",
       "      <td>2010-02-05</td>\n",
       "      <td>1</td>\n",
       "      <td>42.31</td>\n",
       "      <td>2.572</td>\n",
       "      <td>0.0</td>\n",
       "      <td>0.0</td>\n",
       "      <td>0.0</td>\n",
       "      <td>0.0</td>\n",
       "      <td>0.0</td>\n",
       "      <td>211.096358</td>\n",
       "      <td>8.106</td>\n",
       "      <td>False</td>\n",
       "      <td>3</td>\n",
       "      <td>13740.12</td>\n",
       "      <td>A</td>\n",
       "      <td>151315</td>\n",
       "    </tr>\n",
       "    <tr>\n",
       "      <th>3</th>\n",
       "      <td>2010-02-05</td>\n",
       "      <td>1</td>\n",
       "      <td>42.31</td>\n",
       "      <td>2.572</td>\n",
       "      <td>0.0</td>\n",
       "      <td>0.0</td>\n",
       "      <td>0.0</td>\n",
       "      <td>0.0</td>\n",
       "      <td>0.0</td>\n",
       "      <td>211.096358</td>\n",
       "      <td>8.106</td>\n",
       "      <td>False</td>\n",
       "      <td>4</td>\n",
       "      <td>39954.04</td>\n",
       "      <td>A</td>\n",
       "      <td>151315</td>\n",
       "    </tr>\n",
       "    <tr>\n",
       "      <th>4</th>\n",
       "      <td>2010-02-05</td>\n",
       "      <td>1</td>\n",
       "      <td>42.31</td>\n",
       "      <td>2.572</td>\n",
       "      <td>0.0</td>\n",
       "      <td>0.0</td>\n",
       "      <td>0.0</td>\n",
       "      <td>0.0</td>\n",
       "      <td>0.0</td>\n",
       "      <td>211.096358</td>\n",
       "      <td>8.106</td>\n",
       "      <td>False</td>\n",
       "      <td>5</td>\n",
       "      <td>32229.38</td>\n",
       "      <td>A</td>\n",
       "      <td>151315</td>\n",
       "    </tr>\n",
       "  </tbody>\n",
       "</table>\n",
       "</div>"
      ],
      "text/plain": [
       "         Date  Store  Temperature  Fuel_Price  MarkDown1  MarkDown2  \\\n",
       "0  2010-02-05      1        42.31       2.572        0.0        0.0   \n",
       "1  2010-02-05      1        42.31       2.572        0.0        0.0   \n",
       "2  2010-02-05      1        42.31       2.572        0.0        0.0   \n",
       "3  2010-02-05      1        42.31       2.572        0.0        0.0   \n",
       "4  2010-02-05      1        42.31       2.572        0.0        0.0   \n",
       "\n",
       "   MarkDown3  MarkDown4  MarkDown5         CPI  Unemployment  IsHoliday  Dept  \\\n",
       "0        0.0        0.0        0.0  211.096358         8.106      False     1   \n",
       "1        0.0        0.0        0.0  211.096358         8.106      False     2   \n",
       "2        0.0        0.0        0.0  211.096358         8.106      False     3   \n",
       "3        0.0        0.0        0.0  211.096358         8.106      False     4   \n",
       "4        0.0        0.0        0.0  211.096358         8.106      False     5   \n",
       "\n",
       "   Weekly_Sales Type    Size  \n",
       "0      24924.50    A  151315  \n",
       "1      50605.27    A  151315  \n",
       "2      13740.12    A  151315  \n",
       "3      39954.04    A  151315  \n",
       "4      32229.38    A  151315  "
      ]
     },
     "execution_count": 6,
     "metadata": {},
     "output_type": "execute_result"
    }
   ],
   "source": [
    "df.head()"
   ]
  },
  {
   "cell_type": "code",
   "execution_count": 7,
   "id": "d41fae26-a741-4b14-91da-df50f96a2901",
   "metadata": {
    "tags": []
   },
   "outputs": [
    {
     "data": {
      "text/html": [
       "<div>\n",
       "<style scoped>\n",
       "    .dataframe tbody tr th:only-of-type {\n",
       "        vertical-align: middle;\n",
       "    }\n",
       "\n",
       "    .dataframe tbody tr th {\n",
       "        vertical-align: top;\n",
       "    }\n",
       "\n",
       "    .dataframe thead th {\n",
       "        text-align: right;\n",
       "    }\n",
       "</style>\n",
       "<table border=\"1\" class=\"dataframe\">\n",
       "  <thead>\n",
       "    <tr style=\"text-align: right;\">\n",
       "      <th></th>\n",
       "      <th>ds</th>\n",
       "      <th>Store</th>\n",
       "      <th>Temperature</th>\n",
       "      <th>Fuel_Price</th>\n",
       "      <th>MarkDown1</th>\n",
       "      <th>MarkDown2</th>\n",
       "      <th>MarkDown3</th>\n",
       "      <th>MarkDown4</th>\n",
       "      <th>MarkDown5</th>\n",
       "      <th>CPI</th>\n",
       "      <th>Unemployment</th>\n",
       "      <th>IsHoliday</th>\n",
       "      <th>Dept</th>\n",
       "      <th>y</th>\n",
       "      <th>Type</th>\n",
       "      <th>Size</th>\n",
       "    </tr>\n",
       "  </thead>\n",
       "  <tbody>\n",
       "    <tr>\n",
       "      <th>0</th>\n",
       "      <td>2010-02-05</td>\n",
       "      <td>1</td>\n",
       "      <td>42.31</td>\n",
       "      <td>2.572</td>\n",
       "      <td>0.0</td>\n",
       "      <td>0.0</td>\n",
       "      <td>0.0</td>\n",
       "      <td>0.0</td>\n",
       "      <td>0.0</td>\n",
       "      <td>211.096358</td>\n",
       "      <td>8.106</td>\n",
       "      <td>False</td>\n",
       "      <td>1</td>\n",
       "      <td>24924.50</td>\n",
       "      <td>A</td>\n",
       "      <td>151315</td>\n",
       "    </tr>\n",
       "    <tr>\n",
       "      <th>1</th>\n",
       "      <td>2010-02-05</td>\n",
       "      <td>1</td>\n",
       "      <td>42.31</td>\n",
       "      <td>2.572</td>\n",
       "      <td>0.0</td>\n",
       "      <td>0.0</td>\n",
       "      <td>0.0</td>\n",
       "      <td>0.0</td>\n",
       "      <td>0.0</td>\n",
       "      <td>211.096358</td>\n",
       "      <td>8.106</td>\n",
       "      <td>False</td>\n",
       "      <td>2</td>\n",
       "      <td>50605.27</td>\n",
       "      <td>A</td>\n",
       "      <td>151315</td>\n",
       "    </tr>\n",
       "    <tr>\n",
       "      <th>2</th>\n",
       "      <td>2010-02-05</td>\n",
       "      <td>1</td>\n",
       "      <td>42.31</td>\n",
       "      <td>2.572</td>\n",
       "      <td>0.0</td>\n",
       "      <td>0.0</td>\n",
       "      <td>0.0</td>\n",
       "      <td>0.0</td>\n",
       "      <td>0.0</td>\n",
       "      <td>211.096358</td>\n",
       "      <td>8.106</td>\n",
       "      <td>False</td>\n",
       "      <td>3</td>\n",
       "      <td>13740.12</td>\n",
       "      <td>A</td>\n",
       "      <td>151315</td>\n",
       "    </tr>\n",
       "    <tr>\n",
       "      <th>3</th>\n",
       "      <td>2010-02-05</td>\n",
       "      <td>1</td>\n",
       "      <td>42.31</td>\n",
       "      <td>2.572</td>\n",
       "      <td>0.0</td>\n",
       "      <td>0.0</td>\n",
       "      <td>0.0</td>\n",
       "      <td>0.0</td>\n",
       "      <td>0.0</td>\n",
       "      <td>211.096358</td>\n",
       "      <td>8.106</td>\n",
       "      <td>False</td>\n",
       "      <td>4</td>\n",
       "      <td>39954.04</td>\n",
       "      <td>A</td>\n",
       "      <td>151315</td>\n",
       "    </tr>\n",
       "    <tr>\n",
       "      <th>4</th>\n",
       "      <td>2010-02-05</td>\n",
       "      <td>1</td>\n",
       "      <td>42.31</td>\n",
       "      <td>2.572</td>\n",
       "      <td>0.0</td>\n",
       "      <td>0.0</td>\n",
       "      <td>0.0</td>\n",
       "      <td>0.0</td>\n",
       "      <td>0.0</td>\n",
       "      <td>211.096358</td>\n",
       "      <td>8.106</td>\n",
       "      <td>False</td>\n",
       "      <td>5</td>\n",
       "      <td>32229.38</td>\n",
       "      <td>A</td>\n",
       "      <td>151315</td>\n",
       "    </tr>\n",
       "  </tbody>\n",
       "</table>\n",
       "</div>"
      ],
      "text/plain": [
       "           ds  Store  Temperature  Fuel_Price  MarkDown1  MarkDown2  \\\n",
       "0  2010-02-05      1        42.31       2.572        0.0        0.0   \n",
       "1  2010-02-05      1        42.31       2.572        0.0        0.0   \n",
       "2  2010-02-05      1        42.31       2.572        0.0        0.0   \n",
       "3  2010-02-05      1        42.31       2.572        0.0        0.0   \n",
       "4  2010-02-05      1        42.31       2.572        0.0        0.0   \n",
       "\n",
       "   MarkDown3  MarkDown4  MarkDown5         CPI  Unemployment  IsHoliday  Dept  \\\n",
       "0        0.0        0.0        0.0  211.096358         8.106      False     1   \n",
       "1        0.0        0.0        0.0  211.096358         8.106      False     2   \n",
       "2        0.0        0.0        0.0  211.096358         8.106      False     3   \n",
       "3        0.0        0.0        0.0  211.096358         8.106      False     4   \n",
       "4        0.0        0.0        0.0  211.096358         8.106      False     5   \n",
       "\n",
       "          y Type    Size  \n",
       "0  24924.50    A  151315  \n",
       "1  50605.27    A  151315  \n",
       "2  13740.12    A  151315  \n",
       "3  39954.04    A  151315  \n",
       "4  32229.38    A  151315  "
      ]
     },
     "execution_count": 7,
     "metadata": {},
     "output_type": "execute_result"
    }
   ],
   "source": [
    "df.rename(columns = {'Weekly_Sales': 'y', 'Date': 'ds'}, inplace = True)\n",
    "df.head()"
   ]
  },
  {
   "cell_type": "code",
   "execution_count": 8,
   "id": "ebf9356a-489c-4ce7-81bf-72f7b10bf62f",
   "metadata": {
    "tags": []
   },
   "outputs": [],
   "source": [
    "df['ds'] = pd.to_datetime(df['ds'])"
   ]
  },
  {
   "cell_type": "code",
   "execution_count": 9,
   "id": "b9b7c0be-7052-4fdf-9793-c9db7b7055f0",
   "metadata": {},
   "outputs": [
    {
     "data": {
      "text/plain": [
       "ds              datetime64[ns]\n",
       "Store                    int64\n",
       "Temperature            float64\n",
       "Fuel_Price             float64\n",
       "MarkDown1              float64\n",
       "MarkDown2              float64\n",
       "MarkDown3              float64\n",
       "MarkDown4              float64\n",
       "MarkDown5              float64\n",
       "CPI                    float64\n",
       "Unemployment           float64\n",
       "IsHoliday                 bool\n",
       "Dept                     int64\n",
       "y                      float64\n",
       "Type                    object\n",
       "Size                     int64\n",
       "dtype: object"
      ]
     },
     "execution_count": 9,
     "metadata": {},
     "output_type": "execute_result"
    }
   ],
   "source": [
    "df.dtypes"
   ]
  },
  {
   "cell_type": "code",
   "execution_count": 10,
   "id": "91df7cdb-32ad-4b7d-89a2-35c64ba00e38",
   "metadata": {},
   "outputs": [],
   "source": [
    "merged_df = df[['ds','y','Temperature','Fuel_Price','CPI','Unemployment', 'Dept', 'Size', 'Store']]"
   ]
  },
  {
   "cell_type": "code",
   "execution_count": 11,
   "id": "d7659ab8-7445-4398-90ce-fb687f2e997c",
   "metadata": {},
   "outputs": [
    {
     "data": {
      "text/html": [
       "<div>\n",
       "<style scoped>\n",
       "    .dataframe tbody tr th:only-of-type {\n",
       "        vertical-align: middle;\n",
       "    }\n",
       "\n",
       "    .dataframe tbody tr th {\n",
       "        vertical-align: top;\n",
       "    }\n",
       "\n",
       "    .dataframe thead th {\n",
       "        text-align: right;\n",
       "    }\n",
       "</style>\n",
       "<table border=\"1\" class=\"dataframe\">\n",
       "  <thead>\n",
       "    <tr style=\"text-align: right;\">\n",
       "      <th></th>\n",
       "      <th>ds</th>\n",
       "      <th>y</th>\n",
       "      <th>Temperature</th>\n",
       "      <th>Fuel_Price</th>\n",
       "      <th>CPI</th>\n",
       "      <th>Unemployment</th>\n",
       "      <th>Dept</th>\n",
       "      <th>Size</th>\n",
       "      <th>Store</th>\n",
       "    </tr>\n",
       "  </thead>\n",
       "  <tbody>\n",
       "    <tr>\n",
       "      <th>0</th>\n",
       "      <td>2010-02-05</td>\n",
       "      <td>24924.50</td>\n",
       "      <td>42.31</td>\n",
       "      <td>2.572</td>\n",
       "      <td>211.096358</td>\n",
       "      <td>8.106</td>\n",
       "      <td>1</td>\n",
       "      <td>151315</td>\n",
       "      <td>1</td>\n",
       "    </tr>\n",
       "    <tr>\n",
       "      <th>1</th>\n",
       "      <td>2010-02-05</td>\n",
       "      <td>50605.27</td>\n",
       "      <td>42.31</td>\n",
       "      <td>2.572</td>\n",
       "      <td>211.096358</td>\n",
       "      <td>8.106</td>\n",
       "      <td>2</td>\n",
       "      <td>151315</td>\n",
       "      <td>1</td>\n",
       "    </tr>\n",
       "    <tr>\n",
       "      <th>2</th>\n",
       "      <td>2010-02-05</td>\n",
       "      <td>13740.12</td>\n",
       "      <td>42.31</td>\n",
       "      <td>2.572</td>\n",
       "      <td>211.096358</td>\n",
       "      <td>8.106</td>\n",
       "      <td>3</td>\n",
       "      <td>151315</td>\n",
       "      <td>1</td>\n",
       "    </tr>\n",
       "    <tr>\n",
       "      <th>3</th>\n",
       "      <td>2010-02-05</td>\n",
       "      <td>39954.04</td>\n",
       "      <td>42.31</td>\n",
       "      <td>2.572</td>\n",
       "      <td>211.096358</td>\n",
       "      <td>8.106</td>\n",
       "      <td>4</td>\n",
       "      <td>151315</td>\n",
       "      <td>1</td>\n",
       "    </tr>\n",
       "    <tr>\n",
       "      <th>4</th>\n",
       "      <td>2010-02-05</td>\n",
       "      <td>32229.38</td>\n",
       "      <td>42.31</td>\n",
       "      <td>2.572</td>\n",
       "      <td>211.096358</td>\n",
       "      <td>8.106</td>\n",
       "      <td>5</td>\n",
       "      <td>151315</td>\n",
       "      <td>1</td>\n",
       "    </tr>\n",
       "  </tbody>\n",
       "</table>\n",
       "</div>"
      ],
      "text/plain": [
       "          ds         y  Temperature  Fuel_Price         CPI  Unemployment  \\\n",
       "0 2010-02-05  24924.50        42.31       2.572  211.096358         8.106   \n",
       "1 2010-02-05  50605.27        42.31       2.572  211.096358         8.106   \n",
       "2 2010-02-05  13740.12        42.31       2.572  211.096358         8.106   \n",
       "3 2010-02-05  39954.04        42.31       2.572  211.096358         8.106   \n",
       "4 2010-02-05  32229.38        42.31       2.572  211.096358         8.106   \n",
       "\n",
       "   Dept    Size  Store  \n",
       "0     1  151315      1  \n",
       "1     2  151315      1  \n",
       "2     3  151315      1  \n",
       "3     4  151315      1  \n",
       "4     5  151315      1  "
      ]
     },
     "execution_count": 11,
     "metadata": {},
     "output_type": "execute_result"
    }
   ],
   "source": [
    "merged_df.head()"
   ]
  },
  {
   "cell_type": "code",
   "execution_count": 43,
   "id": "123b374f-d5a4-41f7-945b-a23a7a2cb5a9",
   "metadata": {
    "tags": []
   },
   "outputs": [],
   "source": [
    "# X = merged_df.drop(columns='y')\n",
    "# y = merged_df[['y']]"
   ]
  },
  {
   "cell_type": "code",
   "execution_count": 44,
   "id": "a5e0e273-b811-418e-8476-f11178fe029c",
   "metadata": {
    "tags": []
   },
   "outputs": [],
   "source": [
    "# X_train, X_test, y_train, y_test = train_test_split(X, y, test_size = 0.2, shuffle = False, random_state=123)\n",
    "# X_train.shape, X_test.shape, y_train.shape, y_test.shape"
   ]
  },
  {
   "cell_type": "code",
   "execution_count": 12,
   "id": "a89b0b61-d619-4178-984d-4b64759a34fa",
   "metadata": {},
   "outputs": [
    {
     "name": "stderr",
     "output_type": "stream",
     "text": [
      "18:57:14 - cmdstanpy - INFO - Chain [1] start processing\n",
      "18:57:46 - cmdstanpy - INFO - Chain [1] done processing\n"
     ]
    }
   ],
   "source": [
    "from prophet import Prophet\n",
    "m = Prophet(daily_seasonality=True)\n",
    "m.add_regressor('Temperature')\n",
    "m.add_regressor('Fuel_Price')\n",
    "m.add_regressor('CPI')\n",
    "m.add_regressor('Unemployment')\n",
    "m.add_regressor('Dept')\n",
    "m.add_regressor('Size')\n",
    "# m.add_regressor('Type')\n",
    "m.add_regressor('Store')\n",
    "model_fit = m.fit(merged_df)"
   ]
  },
  {
   "cell_type": "code",
   "execution_count": 13,
   "id": "2e89c9f9-d046-4e4e-bbde-1b46a05ecd48",
   "metadata": {
    "tags": []
   },
   "outputs": [
    {
     "data": {
      "text/html": [
       "<div>\n",
       "<style scoped>\n",
       "    .dataframe tbody tr th:only-of-type {\n",
       "        vertical-align: middle;\n",
       "    }\n",
       "\n",
       "    .dataframe tbody tr th {\n",
       "        vertical-align: top;\n",
       "    }\n",
       "\n",
       "    .dataframe thead th {\n",
       "        text-align: right;\n",
       "    }\n",
       "</style>\n",
       "<table border=\"1\" class=\"dataframe\">\n",
       "  <thead>\n",
       "    <tr style=\"text-align: right;\">\n",
       "      <th></th>\n",
       "      <th>ds</th>\n",
       "      <th>yhat</th>\n",
       "    </tr>\n",
       "  </thead>\n",
       "  <tbody>\n",
       "    <tr>\n",
       "      <th>421565</th>\n",
       "      <td>2012-10-26</td>\n",
       "      <td>24703.764076</td>\n",
       "    </tr>\n",
       "    <tr>\n",
       "      <th>421566</th>\n",
       "      <td>2012-10-26</td>\n",
       "      <td>24814.938680</td>\n",
       "    </tr>\n",
       "    <tr>\n",
       "      <th>421567</th>\n",
       "      <td>2012-10-26</td>\n",
       "      <td>25037.287889</td>\n",
       "    </tr>\n",
       "    <tr>\n",
       "      <th>421568</th>\n",
       "      <td>2012-10-26</td>\n",
       "      <td>12512.276192</td>\n",
       "    </tr>\n",
       "    <tr>\n",
       "      <th>421569</th>\n",
       "      <td>2012-10-26</td>\n",
       "      <td>17026.918921</td>\n",
       "    </tr>\n",
       "  </tbody>\n",
       "</table>\n",
       "</div>"
      ],
      "text/plain": [
       "               ds          yhat\n",
       "421565 2012-10-26  24703.764076\n",
       "421566 2012-10-26  24814.938680\n",
       "421567 2012-10-26  25037.287889\n",
       "421568 2012-10-26  12512.276192\n",
       "421569 2012-10-26  17026.918921"
      ]
     },
     "execution_count": 13,
     "metadata": {},
     "output_type": "execute_result"
    }
   ],
   "source": [
    "forecast = model_fit.predict(merged_df)\n",
    "# forecast[['ds','yhat','Temperature','Fuel_Price','CPI','Unemployment', 'Dept', 'Size', 'Store']].tail()\n",
    "forecast[['ds','yhat']].tail()"
   ]
  },
  {
   "cell_type": "code",
   "execution_count": 19,
   "id": "741f9862-1059-4889-803c-fc1c6da3d591",
   "metadata": {
    "tags": []
   },
   "outputs": [
    {
     "data": {
      "text/html": [
       "<div>\n",
       "<style scoped>\n",
       "    .dataframe tbody tr th:only-of-type {\n",
       "        vertical-align: middle;\n",
       "    }\n",
       "\n",
       "    .dataframe tbody tr th {\n",
       "        vertical-align: top;\n",
       "    }\n",
       "\n",
       "    .dataframe thead th {\n",
       "        text-align: right;\n",
       "    }\n",
       "</style>\n",
       "<table border=\"1\" class=\"dataframe\">\n",
       "  <thead>\n",
       "    <tr style=\"text-align: right;\">\n",
       "      <th></th>\n",
       "      <th>ds</th>\n",
       "      <th>yhat</th>\n",
       "      <th>Temperature</th>\n",
       "      <th>Fuel_Price</th>\n",
       "      <th>CPI</th>\n",
       "      <th>Unemployment</th>\n",
       "      <th>Dept</th>\n",
       "      <th>Size</th>\n",
       "      <th>Store</th>\n",
       "    </tr>\n",
       "  </thead>\n",
       "  <tbody>\n",
       "    <tr>\n",
       "      <th>421565</th>\n",
       "      <td>2012-10-26</td>\n",
       "      <td>24703.764076</td>\n",
       "      <td>-1517.686296</td>\n",
       "      <td>324.122666</td>\n",
       "      <td>1172.574734</td>\n",
       "      <td>948.792741</td>\n",
       "      <td>526.932339</td>\n",
       "      <td>7376.745802</td>\n",
       "      <td>733.986418</td>\n",
       "    </tr>\n",
       "    <tr>\n",
       "      <th>421566</th>\n",
       "      <td>2012-10-26</td>\n",
       "      <td>24814.938680</td>\n",
       "      <td>-1517.686296</td>\n",
       "      <td>324.122666</td>\n",
       "      <td>1172.574734</td>\n",
       "      <td>948.792741</td>\n",
       "      <td>638.106943</td>\n",
       "      <td>7376.745802</td>\n",
       "      <td>733.986418</td>\n",
       "    </tr>\n",
       "    <tr>\n",
       "      <th>421567</th>\n",
       "      <td>2012-10-26</td>\n",
       "      <td>25037.287889</td>\n",
       "      <td>-1517.686296</td>\n",
       "      <td>324.122666</td>\n",
       "      <td>1172.574734</td>\n",
       "      <td>948.792741</td>\n",
       "      <td>860.456152</td>\n",
       "      <td>7376.745802</td>\n",
       "      <td>733.986418</td>\n",
       "    </tr>\n",
       "    <tr>\n",
       "      <th>421568</th>\n",
       "      <td>2012-10-26</td>\n",
       "      <td>12512.276192</td>\n",
       "      <td>-2115.735307</td>\n",
       "      <td>267.356245</td>\n",
       "      <td>-821.136127</td>\n",
       "      <td>715.983924</td>\n",
       "      <td>-4475.924853</td>\n",
       "      <td>5303.189462</td>\n",
       "      <td>-1499.752824</td>\n",
       "    </tr>\n",
       "    <tr>\n",
       "      <th>421569</th>\n",
       "      <td>2012-10-26</td>\n",
       "      <td>17026.918921</td>\n",
       "      <td>-143.446015</td>\n",
       "      <td>428.605789</td>\n",
       "      <td>-618.600102</td>\n",
       "      <td>-286.635231</td>\n",
       "      <td>5974.487949</td>\n",
       "      <td>-1646.930709</td>\n",
       "      <td>-1818.858430</td>\n",
       "    </tr>\n",
       "  </tbody>\n",
       "</table>\n",
       "</div>"
      ],
      "text/plain": [
       "               ds          yhat  Temperature  Fuel_Price          CPI  \\\n",
       "421565 2012-10-26  24703.764076 -1517.686296  324.122666  1172.574734   \n",
       "421566 2012-10-26  24814.938680 -1517.686296  324.122666  1172.574734   \n",
       "421567 2012-10-26  25037.287889 -1517.686296  324.122666  1172.574734   \n",
       "421568 2012-10-26  12512.276192 -2115.735307  267.356245  -821.136127   \n",
       "421569 2012-10-26  17026.918921  -143.446015  428.605789  -618.600102   \n",
       "\n",
       "        Unemployment         Dept         Size        Store  \n",
       "421565    948.792741   526.932339  7376.745802   733.986418  \n",
       "421566    948.792741   638.106943  7376.745802   733.986418  \n",
       "421567    948.792741   860.456152  7376.745802   733.986418  \n",
       "421568    715.983924 -4475.924853  5303.189462 -1499.752824  \n",
       "421569   -286.635231  5974.487949 -1646.930709 -1818.858430  "
      ]
     },
     "execution_count": 19,
     "metadata": {},
     "output_type": "execute_result"
    }
   ],
   "source": [
    "forecast = model_fit.predict(merged_df)\n",
    "forecast[['ds','yhat','Temperature','Fuel_Price','CPI','Unemployment', 'Dept', 'Size', 'Store']].tail()\n",
    "# forecast[['ds','yhat']].tail()"
   ]
  },
  {
   "cell_type": "code",
   "execution_count": 20,
   "id": "a4c6a6d7-6ea3-489f-a3d0-b180c0b05874",
   "metadata": {
    "tags": []
   },
   "outputs": [
    {
     "data": {
      "image/png": "[encoded data removed]",
      "text/plain": [
       "<Figure size 900x1200 with 4 Axes>"
      ]
     },
     "metadata": {},
     "output_type": "display_data"
    }
   ],
   "source": [
    "model_fit.plot_components(forecast);"
   ]
  },
  {
   "cell_type": "code",
   "execution_count": 21,
   "id": "080ca18c-87da-4d82-887c-57db72abc833",
   "metadata": {
    "tags": []
   },
   "outputs": [
    {
     "data": {
      "text/html": [
       "<div>\n",
       "<style scoped>\n",
       "    .dataframe tbody tr th:only-of-type {\n",
       "        vertical-align: middle;\n",
       "    }\n",
       "\n",
       "    .dataframe tbody tr th {\n",
       "        vertical-align: top;\n",
       "    }\n",
       "\n",
       "    .dataframe thead th {\n",
       "        text-align: right;\n",
       "    }\n",
       "</style>\n",
       "<table border=\"1\" class=\"dataframe\">\n",
       "  <thead>\n",
       "    <tr style=\"text-align: right;\">\n",
       "      <th></th>\n",
       "      <th>Date</th>\n",
       "      <th>Weekly_Sales</th>\n",
       "    </tr>\n",
       "  </thead>\n",
       "  <tbody>\n",
       "    <tr>\n",
       "      <th>0</th>\n",
       "      <td>2010-02-05</td>\n",
       "      <td>14428.198387</td>\n",
       "    </tr>\n",
       "    <tr>\n",
       "      <th>1</th>\n",
       "      <td>2010-02-05</td>\n",
       "      <td>7875.610257</td>\n",
       "    </tr>\n",
       "    <tr>\n",
       "      <th>2</th>\n",
       "      <td>2010-02-05</td>\n",
       "      <td>7986.784861</td>\n",
       "    </tr>\n",
       "    <tr>\n",
       "      <th>3</th>\n",
       "      <td>2010-02-05</td>\n",
       "      <td>8097.959465</td>\n",
       "    </tr>\n",
       "    <tr>\n",
       "      <th>4</th>\n",
       "      <td>2010-02-05</td>\n",
       "      <td>8209.134070</td>\n",
       "    </tr>\n",
       "  </tbody>\n",
       "</table>\n",
       "</div>"
      ],
      "text/plain": [
       "        Date  Weekly_Sales\n",
       "0 2010-02-05  14428.198387\n",
       "1 2010-02-05   7875.610257\n",
       "2 2010-02-05   7986.784861\n",
       "3 2010-02-05   8097.959465\n",
       "4 2010-02-05   8209.134070"
      ]
     },
     "execution_count": 21,
     "metadata": {},
     "output_type": "execute_result"
    }
   ],
   "source": [
    "predictions = forecast[['ds','yhat']]\n",
    "predictions = predictions.rename(columns = {'ds':'Date','yhat':'Weekly_Sales'})\n",
    "predictions.head()"
   ]
  },
  {
   "cell_type": "code",
   "execution_count": null,
   "id": "e90a08c1-3a5d-43ce-89f0-a4807d26d5c7",
   "metadata": {},
   "outputs": [],
   "source": [
    "# Comparison = X_test.copy(\"deep\")\n",
    "# Comparison['Actual Sales ($M)'] = y_test['Weekly_Sales']\n",
    "# Comparison['Predicted Sales ($M)'] = xgb_preds\n",
    "# Comparison.head()"
   ]
  },
  {
   "cell_type": "code",
   "execution_count": 59,
   "id": "1eae7497-0531-47f9-9897-24ad9f17ef62",
   "metadata": {
    "tags": []
   },
   "outputs": [
    {
     "data": {
      "image/png": "[encoded data removed]",
      "text/plain": [
       "<Figure size 1200x300 with 1 Axes>"
      ]
     },
     "metadata": {
      "needs_background": "light"
     },
     "output_type": "display_data"
    }
   ],
   "source": [
    "# plt.subplots(figsize = (15,8))\n",
    "# sns.lineplot(forecast,x = 'ds',y='y',legend='full')\n",
    "# sns.lineplot(predictions,x = 'Date',y = 'Weekly_Sales',legend='full')\n",
    "# plt.legend(labels = ['Actual','','Prediction'])\n",
    "# plt.ticklabel_format(useOffset=False,style='plain',axis='y')\n",
    "# plt.show()\n",
    "\n",
    "plt.figure(figsize = (12,3))\n",
    "# sns.lineplot(Comparison1, x = 'Date', y = 'Actual Sales ($M)')\n",
    "# sns.lineplot(Comparison1, x = 'Date', y = 'Predicted Sales ($M)')\n",
    "plt.plot(predictions['Date'], predictions['Weekly_Sales'])\n",
    "plt.plot(merged_df['ds'], merged_df['y'])\n",
    "# plt.plot(Comparison1, x = 'Date', y = 'Predicted Sales ($M)')\n",
    "# plt.ylim(40, 55)\n",
    "# plt.ticklabel_format(useOffset=False,style='plain',axis='y')\n",
    "plt.xlabel('Week')\n",
    "plt.ylabel('Weekly Sales ($M)')\n",
    "plt.title('Walmart Weekly Sales: Predicted vs. Actual')\n",
    "plt.legend(['Actual Sales','Predicted Sales'])\n",
    "plt.show()"
   ]
  },
  {
   "cell_type": "code",
   "execution_count": 64,
   "id": "b1928723-3b22-44d1-ac59-0d5ca6afb07d",
   "metadata": {
    "tags": []
   },
   "outputs": [],
   "source": [
    "predictions['Date'] = pd.to_datetime(predictions['Date'])\n",
    "predictions['Year'] = predictions['Date'].dt.year\n",
    "predictions['Month'] = predictions['Date'].dt.month\n",
    "predictions['MonthName'] = predictions['Date'].dt.month_name()\n",
    "# predictions['Week'] = predictions['Date'].dt.week\n",
    "predictions['Week'] = pd.to_datetime(predictions['Date']).dt.isocalendar().week"
   ]
  },
  {
   "cell_type": "code",
   "execution_count": 65,
   "id": "b1c28d1c-0be5-4bdd-8340-09391b7ee232",
   "metadata": {
    "tags": []
   },
   "outputs": [
    {
     "data": {
      "text/html": [
       "<div>\n",
       "<style scoped>\n",
       "    .dataframe tbody tr th:only-of-type {\n",
       "        vertical-align: middle;\n",
       "    }\n",
       "\n",
       "    .dataframe tbody tr th {\n",
       "        vertical-align: top;\n",
       "    }\n",
       "\n",
       "    .dataframe thead th {\n",
       "        text-align: right;\n",
       "    }\n",
       "</style>\n",
       "<table border=\"1\" class=\"dataframe\">\n",
       "  <thead>\n",
       "    <tr style=\"text-align: right;\">\n",
       "      <th></th>\n",
       "      <th>Date</th>\n",
       "      <th>Weekly_Sales</th>\n",
       "      <th>Year</th>\n",
       "      <th>Month</th>\n",
       "      <th>MonthName</th>\n",
       "      <th>Week</th>\n",
       "    </tr>\n",
       "  </thead>\n",
       "  <tbody>\n",
       "    <tr>\n",
       "      <th>0</th>\n",
       "      <td>2010-02-05</td>\n",
       "      <td>14428.198387</td>\n",
       "      <td>2010</td>\n",
       "      <td>2</td>\n",
       "      <td>February</td>\n",
       "      <td>5</td>\n",
       "    </tr>\n",
       "    <tr>\n",
       "      <th>1</th>\n",
       "      <td>2010-02-05</td>\n",
       "      <td>7875.610257</td>\n",
       "      <td>2010</td>\n",
       "      <td>2</td>\n",
       "      <td>February</td>\n",
       "      <td>5</td>\n",
       "    </tr>\n",
       "    <tr>\n",
       "      <th>2</th>\n",
       "      <td>2010-02-05</td>\n",
       "      <td>7986.784861</td>\n",
       "      <td>2010</td>\n",
       "      <td>2</td>\n",
       "      <td>February</td>\n",
       "      <td>5</td>\n",
       "    </tr>\n",
       "    <tr>\n",
       "      <th>3</th>\n",
       "      <td>2010-02-05</td>\n",
       "      <td>8097.959465</td>\n",
       "      <td>2010</td>\n",
       "      <td>2</td>\n",
       "      <td>February</td>\n",
       "      <td>5</td>\n",
       "    </tr>\n",
       "    <tr>\n",
       "      <th>4</th>\n",
       "      <td>2010-02-05</td>\n",
       "      <td>8209.134070</td>\n",
       "      <td>2010</td>\n",
       "      <td>2</td>\n",
       "      <td>February</td>\n",
       "      <td>5</td>\n",
       "    </tr>\n",
       "  </tbody>\n",
       "</table>\n",
       "</div>"
      ],
      "text/plain": [
       "        Date  Weekly_Sales  Year  Month MonthName  Week\n",
       "0 2010-02-05  14428.198387  2010      2  February     5\n",
       "1 2010-02-05   7875.610257  2010      2  February     5\n",
       "2 2010-02-05   7986.784861  2010      2  February     5\n",
       "3 2010-02-05   8097.959465  2010      2  February     5\n",
       "4 2010-02-05   8209.134070  2010      2  February     5"
      ]
     },
     "execution_count": 65,
     "metadata": {},
     "output_type": "execute_result"
    }
   ],
   "source": [
    "predictions.head()"
   ]
  },
  {
   "cell_type": "code",
   "execution_count": 85,
   "id": "e265a2ee-3f9d-4251-b4f1-b54717a722be",
   "metadata": {
    "tags": []
   },
   "outputs": [],
   "source": [
    "x_time  = predictions.drop(columns=['Date', 'Weekly_Sales', 'MonthName'])\n",
    "y_time = predictions[['Weekly_Sales']]"
   ]
  },
  {
   "cell_type": "code",
   "execution_count": 86,
   "id": "a2fc1d34-89da-45a8-a223-ed878637f059",
   "metadata": {
    "tags": []
   },
   "outputs": [],
   "source": [
    "x_time_train,x_time_test,y_time_train,y_time_test = train_test_split(x_time,y_time,test_size=0.2,random_state=20)"
   ]
  },
  {
   "cell_type": "code",
   "execution_count": 87,
   "id": "2411ddbe-4f24-4467-beb4-65697dd8748a",
   "metadata": {},
   "outputs": [],
   "source": [
    "xgb_time_model = XGBRegressor()\n",
    "xgb_time_model.fit(x_time_train, y_time_train)\n",
    "xgb_time_pred = xgb_time_model.predict(x_time_test)"
   ]
  },
  {
   "cell_type": "code",
   "execution_count": 88,
   "id": "20262ea7-53c9-4bc4-9ddc-9726db48a01a",
   "metadata": {},
   "outputs": [
    {
     "data": {
      "text/plain": [
       "((337256, 3), (337256, 1), (84314, 3), (84314, 1), (84314,))"
      ]
     },
     "execution_count": 88,
     "metadata": {},
     "output_type": "execute_result"
    }
   ],
   "source": [
    "x_time_train.shape,y_time_train.shape,x_time_test.shape,y_time_test.shape,xgb_time_pred.shape"
   ]
  },
  {
   "cell_type": "code",
   "execution_count": 99,
   "id": "d8c8f644-caf8-4a50-b324-61181aadd5ae",
   "metadata": {
    "tags": []
   },
   "outputs": [
    {
     "data": {
      "text/html": [
       "<div>\n",
       "<style scoped>\n",
       "    .dataframe tbody tr th:only-of-type {\n",
       "        vertical-align: middle;\n",
       "    }\n",
       "\n",
       "    .dataframe tbody tr th {\n",
       "        vertical-align: top;\n",
       "    }\n",
       "\n",
       "    .dataframe thead th {\n",
       "        text-align: right;\n",
       "    }\n",
       "</style>\n",
       "<table border=\"1\" class=\"dataframe\">\n",
       "  <thead>\n",
       "    <tr style=\"text-align: right;\">\n",
       "      <th></th>\n",
       "      <th>Year</th>\n",
       "      <th>Month</th>\n",
       "      <th>Week</th>\n",
       "      <th>Actual Sales ($M)</th>\n",
       "      <th>Predicted Sales ($M)</th>\n",
       "    </tr>\n",
       "  </thead>\n",
       "  <tbody>\n",
       "    <tr>\n",
       "      <th>131992</th>\n",
       "      <td>2010</td>\n",
       "      <td>12</td>\n",
       "      <td>50</td>\n",
       "      <td>0.017959</td>\n",
       "      <td>0.021632</td>\n",
       "    </tr>\n",
       "    <tr>\n",
       "      <th>72454</th>\n",
       "      <td>2010</td>\n",
       "      <td>7</td>\n",
       "      <td>29</td>\n",
       "      <td>0.013251</td>\n",
       "      <td>0.015968</td>\n",
       "    </tr>\n",
       "    <tr>\n",
       "      <th>366604</th>\n",
       "      <td>2012</td>\n",
       "      <td>6</td>\n",
       "      <td>25</td>\n",
       "      <td>0.013651</td>\n",
       "      <td>0.016511</td>\n",
       "    </tr>\n",
       "    <tr>\n",
       "      <th>358969</th>\n",
       "      <td>2012</td>\n",
       "      <td>6</td>\n",
       "      <td>22</td>\n",
       "      <td>0.021321</td>\n",
       "      <td>0.016200</td>\n",
       "    </tr>\n",
       "    <tr>\n",
       "      <th>290838</th>\n",
       "      <td>2011</td>\n",
       "      <td>12</td>\n",
       "      <td>51</td>\n",
       "      <td>0.029549</td>\n",
       "      <td>0.021220</td>\n",
       "    </tr>\n",
       "    <tr>\n",
       "      <th>...</th>\n",
       "      <td>...</td>\n",
       "      <td>...</td>\n",
       "      <td>...</td>\n",
       "      <td>...</td>\n",
       "      <td>...</td>\n",
       "    </tr>\n",
       "    <tr>\n",
       "      <th>227167</th>\n",
       "      <td>2011</td>\n",
       "      <td>7</td>\n",
       "      <td>30</td>\n",
       "      <td>0.017210</td>\n",
       "      <td>0.015650</td>\n",
       "    </tr>\n",
       "    <tr>\n",
       "      <th>176276</th>\n",
       "      <td>2011</td>\n",
       "      <td>4</td>\n",
       "      <td>13</td>\n",
       "      <td>0.011233</td>\n",
       "      <td>0.014755</td>\n",
       "    </tr>\n",
       "    <tr>\n",
       "      <th>164686</th>\n",
       "      <td>2011</td>\n",
       "      <td>3</td>\n",
       "      <td>9</td>\n",
       "      <td>0.019803</td>\n",
       "      <td>0.015492</td>\n",
       "    </tr>\n",
       "    <tr>\n",
       "      <th>371760</th>\n",
       "      <td>2012</td>\n",
       "      <td>7</td>\n",
       "      <td>27</td>\n",
       "      <td>0.015956</td>\n",
       "      <td>0.016204</td>\n",
       "    </tr>\n",
       "    <tr>\n",
       "      <th>41901</th>\n",
       "      <td>2010</td>\n",
       "      <td>5</td>\n",
       "      <td>19</td>\n",
       "      <td>0.013612</td>\n",
       "      <td>0.015443</td>\n",
       "    </tr>\n",
       "  </tbody>\n",
       "</table>\n",
       "<p>84314 rows × 5 columns</p>\n",
       "</div>"
      ],
      "text/plain": [
       "        Year  Month  Week  Actual Sales ($M)  Predicted Sales ($M)\n",
       "131992  2010     12    50           0.017959              0.021632\n",
       "72454   2010      7    29           0.013251              0.015968\n",
       "366604  2012      6    25           0.013651              0.016511\n",
       "358969  2012      6    22           0.021321              0.016200\n",
       "290838  2011     12    51           0.029549              0.021220\n",
       "...      ...    ...   ...                ...                   ...\n",
       "227167  2011      7    30           0.017210              0.015650\n",
       "176276  2011      4    13           0.011233              0.014755\n",
       "164686  2011      3     9           0.019803              0.015492\n",
       "371760  2012      7    27           0.015956              0.016204\n",
       "41901   2010      5    19           0.013612              0.015443\n",
       "\n",
       "[84314 rows x 5 columns]"
      ]
     },
     "execution_count": 99,
     "metadata": {},
     "output_type": "execute_result"
    }
   ],
   "source": [
    "Comparison = x_time_test.copy(\"deep\")\n",
    "Comparison['Actual Sales ($M)'] = y_time_test/1000000\n",
    "Comparison['Predicted Sales ($M)'] = xgb_time_pred/1000000\n",
    "Comparison"
   ]
  },
  {
   "cell_type": "code",
   "execution_count": null,
   "id": "7e706939-0292-4c86-a59b-afc8e168ead8",
   "metadata": {},
   "outputs": [],
   "source": []
  },
  {
   "cell_type": "code",
   "execution_count": null,
   "id": "070ce2a8-6661-4d4b-b0e9-c25b4a4b3efd",
   "metadata": {},
   "outputs": [],
   "source": []
  },
  {
   "cell_type": "code",
   "execution_count": 170,
   "id": "d727f8cc-1c85-4de7-8164-50361a6fa9a4",
   "metadata": {
    "tags": []
   },
   "outputs": [],
   "source": [
    "Comparison1 = Comparison.groupby(['Year', 'Week'])[['Actual Sales ($M)', 'Predicted Sales ($M)']].sum()"
   ]
  },
  {
   "cell_type": "code",
   "execution_count": 171,
   "id": "8e5355f7-1576-4782-8902-b7ead48a2de2",
   "metadata": {
    "tags": []
   },
   "outputs": [
    {
     "data": {
      "text/plain": [
       "Index(['Actual Sales ($M)', 'Predicted Sales ($M)'], dtype='object')"
      ]
     },
     "execution_count": 171,
     "metadata": {},
     "output_type": "execute_result"
    }
   ],
   "source": [
    "Comparison1.columns"
   ]
  },
  {
   "cell_type": "code",
   "execution_count": 172,
   "id": "719a2c90-2e3e-4058-b07a-0586e0a195de",
   "metadata": {
    "tags": []
   },
   "outputs": [],
   "source": [
    "Comparison1.reset_index(inplace=True)"
   ]
  },
  {
   "cell_type": "code",
   "execution_count": 173,
   "id": "d28b0be9-aa4d-41d5-a3fc-c8e9fefe254e",
   "metadata": {
    "tags": []
   },
   "outputs": [
    {
     "data": {
      "text/html": [
       "<div>\n",
       "<style scoped>\n",
       "    .dataframe tbody tr th:only-of-type {\n",
       "        vertical-align: middle;\n",
       "    }\n",
       "\n",
       "    .dataframe tbody tr th {\n",
       "        vertical-align: top;\n",
       "    }\n",
       "\n",
       "    .dataframe thead th {\n",
       "        text-align: right;\n",
       "    }\n",
       "</style>\n",
       "<table border=\"1\" class=\"dataframe\">\n",
       "  <thead>\n",
       "    <tr style=\"text-align: right;\">\n",
       "      <th></th>\n",
       "      <th>Year</th>\n",
       "      <th>Week</th>\n",
       "      <th>Actual Sales ($M)</th>\n",
       "      <th>Predicted Sales ($M)</th>\n",
       "    </tr>\n",
       "  </thead>\n",
       "  <tbody>\n",
       "    <tr>\n",
       "      <th>0</th>\n",
       "      <td>2010</td>\n",
       "      <td>5</td>\n",
       "      <td>9.838555</td>\n",
       "      <td>9.694373</td>\n",
       "    </tr>\n",
       "    <tr>\n",
       "      <th>1</th>\n",
       "      <td>2010</td>\n",
       "      <td>6</td>\n",
       "      <td>9.968792</td>\n",
       "      <td>9.910077</td>\n",
       "    </tr>\n",
       "    <tr>\n",
       "      <th>2</th>\n",
       "      <td>2010</td>\n",
       "      <td>7</td>\n",
       "      <td>9.060417</td>\n",
       "      <td>9.339530</td>\n",
       "    </tr>\n",
       "    <tr>\n",
       "      <th>3</th>\n",
       "      <td>2010</td>\n",
       "      <td>8</td>\n",
       "      <td>9.044885</td>\n",
       "      <td>8.913022</td>\n",
       "    </tr>\n",
       "    <tr>\n",
       "      <th>4</th>\n",
       "      <td>2010</td>\n",
       "      <td>9</td>\n",
       "      <td>9.062330</td>\n",
       "      <td>9.246653</td>\n",
       "    </tr>\n",
       "    <tr>\n",
       "      <th>...</th>\n",
       "      <td>...</td>\n",
       "      <td>...</td>\n",
       "      <td>...</td>\n",
       "      <td>...</td>\n",
       "    </tr>\n",
       "    <tr>\n",
       "      <th>138</th>\n",
       "      <td>2012</td>\n",
       "      <td>39</td>\n",
       "      <td>9.047666</td>\n",
       "      <td>9.147146</td>\n",
       "    </tr>\n",
       "    <tr>\n",
       "      <th>139</th>\n",
       "      <td>2012</td>\n",
       "      <td>40</td>\n",
       "      <td>9.571564</td>\n",
       "      <td>9.400782</td>\n",
       "    </tr>\n",
       "    <tr>\n",
       "      <th>140</th>\n",
       "      <td>2012</td>\n",
       "      <td>41</td>\n",
       "      <td>8.870428</td>\n",
       "      <td>9.094156</td>\n",
       "    </tr>\n",
       "    <tr>\n",
       "      <th>141</th>\n",
       "      <td>2012</td>\n",
       "      <td>42</td>\n",
       "      <td>8.887266</td>\n",
       "      <td>8.932677</td>\n",
       "    </tr>\n",
       "    <tr>\n",
       "      <th>142</th>\n",
       "      <td>2012</td>\n",
       "      <td>43</td>\n",
       "      <td>8.695304</td>\n",
       "      <td>8.823328</td>\n",
       "    </tr>\n",
       "  </tbody>\n",
       "</table>\n",
       "<p>143 rows × 4 columns</p>\n",
       "</div>"
      ],
      "text/plain": [
       "     Year  Week  Actual Sales ($M)  Predicted Sales ($M)\n",
       "0    2010     5           9.838555              9.694373\n",
       "1    2010     6           9.968792              9.910077\n",
       "2    2010     7           9.060417              9.339530\n",
       "3    2010     8           9.044885              8.913022\n",
       "4    2010     9           9.062330              9.246653\n",
       "..    ...   ...                ...                   ...\n",
       "138  2012    39           9.047666              9.147146\n",
       "139  2012    40           9.571564              9.400782\n",
       "140  2012    41           8.870428              9.094156\n",
       "141  2012    42           8.887266              8.932677\n",
       "142  2012    43           8.695304              8.823328\n",
       "\n",
       "[143 rows x 4 columns]"
      ]
     },
     "execution_count": 173,
     "metadata": {},
     "output_type": "execute_result"
    }
   ],
   "source": [
    "Comparison1"
   ]
  },
  {
   "cell_type": "code",
   "execution_count": 174,
   "id": "b8e1a1d3-3dd9-4a3a-8ccd-458baa147c6b",
   "metadata": {
    "tags": []
   },
   "outputs": [],
   "source": [
    "Comparison1['YearWeek'] = Comparison1['Year'].astype(str) + '-' + Comparison1['Week'].astype(str)\n",
    "# Comparison1['YearWeek'] = pd.concat([Comparison1['Year'], Comparison1['Week']], axis=1).apply(lambda row: ' '.join(row), axis=1)"
   ]
  },
  {
   "cell_type": "code",
   "execution_count": 175,
   "id": "eb05c9af-3498-4273-b8ff-ece1fca2f616",
   "metadata": {
    "tags": []
   },
   "outputs": [
    {
     "data": {
      "text/html": [
       "<div>\n",
       "<style scoped>\n",
       "    .dataframe tbody tr th:only-of-type {\n",
       "        vertical-align: middle;\n",
       "    }\n",
       "\n",
       "    .dataframe tbody tr th {\n",
       "        vertical-align: top;\n",
       "    }\n",
       "\n",
       "    .dataframe thead th {\n",
       "        text-align: right;\n",
       "    }\n",
       "</style>\n",
       "<table border=\"1\" class=\"dataframe\">\n",
       "  <thead>\n",
       "    <tr style=\"text-align: right;\">\n",
       "      <th></th>\n",
       "      <th>Year</th>\n",
       "      <th>Week</th>\n",
       "      <th>Actual Sales ($M)</th>\n",
       "      <th>Predicted Sales ($M)</th>\n",
       "      <th>YearWeek</th>\n",
       "    </tr>\n",
       "  </thead>\n",
       "  <tbody>\n",
       "    <tr>\n",
       "      <th>0</th>\n",
       "      <td>2010</td>\n",
       "      <td>5</td>\n",
       "      <td>9.838555</td>\n",
       "      <td>9.694373</td>\n",
       "      <td>2010-5</td>\n",
       "    </tr>\n",
       "    <tr>\n",
       "      <th>1</th>\n",
       "      <td>2010</td>\n",
       "      <td>6</td>\n",
       "      <td>9.968792</td>\n",
       "      <td>9.910077</td>\n",
       "      <td>2010-6</td>\n",
       "    </tr>\n",
       "    <tr>\n",
       "      <th>2</th>\n",
       "      <td>2010</td>\n",
       "      <td>7</td>\n",
       "      <td>9.060417</td>\n",
       "      <td>9.339530</td>\n",
       "      <td>2010-7</td>\n",
       "    </tr>\n",
       "    <tr>\n",
       "      <th>3</th>\n",
       "      <td>2010</td>\n",
       "      <td>8</td>\n",
       "      <td>9.044885</td>\n",
       "      <td>8.913022</td>\n",
       "      <td>2010-8</td>\n",
       "    </tr>\n",
       "    <tr>\n",
       "      <th>4</th>\n",
       "      <td>2010</td>\n",
       "      <td>9</td>\n",
       "      <td>9.062330</td>\n",
       "      <td>9.246653</td>\n",
       "      <td>2010-9</td>\n",
       "    </tr>\n",
       "    <tr>\n",
       "      <th>...</th>\n",
       "      <td>...</td>\n",
       "      <td>...</td>\n",
       "      <td>...</td>\n",
       "      <td>...</td>\n",
       "      <td>...</td>\n",
       "    </tr>\n",
       "    <tr>\n",
       "      <th>138</th>\n",
       "      <td>2012</td>\n",
       "      <td>39</td>\n",
       "      <td>9.047666</td>\n",
       "      <td>9.147146</td>\n",
       "      <td>2012-39</td>\n",
       "    </tr>\n",
       "    <tr>\n",
       "      <th>139</th>\n",
       "      <td>2012</td>\n",
       "      <td>40</td>\n",
       "      <td>9.571564</td>\n",
       "      <td>9.400782</td>\n",
       "      <td>2012-40</td>\n",
       "    </tr>\n",
       "    <tr>\n",
       "      <th>140</th>\n",
       "      <td>2012</td>\n",
       "      <td>41</td>\n",
       "      <td>8.870428</td>\n",
       "      <td>9.094156</td>\n",
       "      <td>2012-41</td>\n",
       "    </tr>\n",
       "    <tr>\n",
       "      <th>141</th>\n",
       "      <td>2012</td>\n",
       "      <td>42</td>\n",
       "      <td>8.887266</td>\n",
       "      <td>8.932677</td>\n",
       "      <td>2012-42</td>\n",
       "    </tr>\n",
       "    <tr>\n",
       "      <th>142</th>\n",
       "      <td>2012</td>\n",
       "      <td>43</td>\n",
       "      <td>8.695304</td>\n",
       "      <td>8.823328</td>\n",
       "      <td>2012-43</td>\n",
       "    </tr>\n",
       "  </tbody>\n",
       "</table>\n",
       "<p>143 rows × 5 columns</p>\n",
       "</div>"
      ],
      "text/plain": [
       "     Year  Week  Actual Sales ($M)  Predicted Sales ($M) YearWeek\n",
       "0    2010     5           9.838555              9.694373   2010-5\n",
       "1    2010     6           9.968792              9.910077   2010-6\n",
       "2    2010     7           9.060417              9.339530   2010-7\n",
       "3    2010     8           9.044885              8.913022   2010-8\n",
       "4    2010     9           9.062330              9.246653   2010-9\n",
       "..    ...   ...                ...                   ...      ...\n",
       "138  2012    39           9.047666              9.147146  2012-39\n",
       "139  2012    40           9.571564              9.400782  2012-40\n",
       "140  2012    41           8.870428              9.094156  2012-41\n",
       "141  2012    42           8.887266              8.932677  2012-42\n",
       "142  2012    43           8.695304              8.823328  2012-43\n",
       "\n",
       "[143 rows x 5 columns]"
      ]
     },
     "execution_count": 175,
     "metadata": {},
     "output_type": "execute_result"
    }
   ],
   "source": [
    "Comparison1"
   ]
  },
  {
   "cell_type": "code",
   "execution_count": 176,
   "id": "b5773d35-8955-4574-9dd9-fa95b2064c22",
   "metadata": {
    "tags": []
   },
   "outputs": [
    {
     "data": {
      "image/png": "[encoded data removed]",
      "text/plain": [
       "<Figure size 1200x300 with 1 Axes>"
      ]
     },
     "metadata": {
      "needs_background": "light"
     },
     "output_type": "display_data"
    }
   ],
   "source": [
    "plt.figure(figsize = (12,3))\n",
    "# sns.lineplot(Comparison1, x = 'Date', y = 'Actual Sales ($M)')\n",
    "# sns.lineplot(Comparison1, x = 'Date', y = 'Predicted Sales ($M)')\n",
    "plt.plot(Comparison1['YearWeek'], Comparison1['Actual Sales ($M)'])\n",
    "plt.plot(Comparison1['YearWeek'], Comparison1['Predicted Sales ($M)'])\n",
    "# plt.plot(Comparison1['Week'], Comparison1['Actual Sales ($M)'])\n",
    "# plt.plot(Comparison1['Week'], Comparison1['Predicted Sales ($M)'])\n",
    "# plt.plot(Comparison1, x = 'Date', y = 'Predicted Sales ($M)')\n",
    "# plt.ylim(40, 55)\n",
    "# plt.ticklabel_format(useOffset=False,style='plain',axis='y')\n",
    "plt.xlabel('Week')\n",
    "plt.ylabel('Weekly Sales ($M)')\n",
    "plt.title('Walmart Weekly Sales: Predicted vs. Actual')\n",
    "plt.xticks(rotation=90)\n",
    "\n",
    "plt.legend(['Actual Sales','Predicted Sales'])\n",
    "plt.show()"
   ]
  },
  {
   "cell_type": "code",
   "execution_count": 177,
   "id": "f5dde2bf-74a1-4b3e-a9fd-aa8e4d47c569",
   "metadata": {
    "tags": []
   },
   "outputs": [
    {
     "name": "stdout",
     "output_type": "stream",
     "text": [
      "Mean Squared Error = 0.029143009759094167\n",
      "Mean Absolute Error = 0.13203529056241953\n",
      "Root Mean Squared Error = 0.17071323838265787\n",
      "r2 score = 0.9669044790399987\n"
     ]
    }
   ],
   "source": [
    "evaluation_metrics(Comparison1['Actual Sales ($M)'], Comparison1['Predicted Sales ($M)'])"
   ]
  },
  {
   "cell_type": "code",
   "execution_count": 179,
   "id": "4ea38d2d-4fc6-47ea-9b08-648c0b47b686",
   "metadata": {
    "tags": []
   },
   "outputs": [],
   "source": [
    "Comparison1['Error'] = (Comparison1['Actual Sales ($M)'] - Comparison1['Predicted Sales ($M)'])/Comparison1['Actual Sales ($M)']"
   ]
  },
  {
   "cell_type": "code",
   "execution_count": 182,
   "id": "2e1e0302-bc73-45b4-a54f-152681f9572c",
   "metadata": {
    "tags": []
   },
   "outputs": [
    {
     "data": {
      "text/plain": [
       "80    -0.044003\n",
       "12    -0.038639\n",
       "112   -0.037840\n",
       "57    -0.031432\n",
       "69    -0.030881\n",
       "         ...   \n",
       "37     0.037142\n",
       "51     0.041591\n",
       "62     0.041840\n",
       "29     0.042872\n",
       "119    0.055193\n",
       "Name: Error, Length: 143, dtype: float64"
      ]
     },
     "execution_count": 182,
     "metadata": {},
     "output_type": "execute_result"
    }
   ],
   "source": [
    "Comparison1['Error'].sort_values()"
   ]
  },
  {
   "cell_type": "code",
   "execution_count": null,
   "id": "53e8aa38-0417-4e97-998a-0df9f79d4d4e",
   "metadata": {},
   "outputs": [],
   "source": []
  },
  {
   "cell_type": "code",
   "execution_count": null,
   "id": "5c820072-93fc-477f-90cb-c4a65d8af62e",
   "metadata": {},
   "outputs": [],
   "source": []
  },
  {
   "cell_type": "markdown",
   "id": "fc0cfef4-4965-43e8-98b5-a43ed7a3a19f",
   "metadata": {},
   "source": [
    "### Test Data"
   ]
  },
  {
   "cell_type": "code",
   "execution_count": 155,
   "id": "bd08939d-1660-41f7-989b-cc4e511eb390",
   "metadata": {
    "tags": []
   },
   "outputs": [],
   "source": [
    "data_test = pd.read_csv('data/data_test.csv')"
   ]
  },
  {
   "cell_type": "code",
   "execution_count": 156,
   "id": "48a0e4a4-9e4e-4793-97d9-e7722ba1af2e",
   "metadata": {
    "tags": []
   },
   "outputs": [],
   "source": [
    "# Split date up into year, month, week, day for more\n",
    "data_test['Day'] = pd.to_datetime(data_test['Date']).dt.day\n",
    "data_test['Year'] = pd.to_datetime(data_test['Date']).dt.year\n",
    "data_test['Month'] = pd.to_datetime(data_test['Date']).dt.month\n",
    "data_test['Week'] = pd.to_datetime(data_test['Date']).dt.isocalendar().week"
   ]
  },
  {
   "cell_type": "code",
   "execution_count": 157,
   "id": "906f5b82-e825-4b6f-835a-d11004849ba8",
   "metadata": {
    "tags": []
   },
   "outputs": [],
   "source": [
    "data_test.set_index('Date', inplace=True)"
   ]
  },
  {
   "cell_type": "code",
   "execution_count": 158,
   "id": "d319459a-f5a9-4e8f-8a55-0ad9440633c1",
   "metadata": {
    "tags": []
   },
   "outputs": [
    {
     "data": {
      "text/html": [
       "<div>\n",
       "<style scoped>\n",
       "    .dataframe tbody tr th:only-of-type {\n",
       "        vertical-align: middle;\n",
       "    }\n",
       "\n",
       "    .dataframe tbody tr th {\n",
       "        vertical-align: top;\n",
       "    }\n",
       "\n",
       "    .dataframe thead th {\n",
       "        text-align: right;\n",
       "    }\n",
       "</style>\n",
       "<table border=\"1\" class=\"dataframe\">\n",
       "  <thead>\n",
       "    <tr style=\"text-align: right;\">\n",
       "      <th></th>\n",
       "      <th>Temperature</th>\n",
       "      <th>Fuel_Price</th>\n",
       "      <th>MarkDown1</th>\n",
       "      <th>MarkDown2</th>\n",
       "      <th>MarkDown3</th>\n",
       "      <th>MarkDown4</th>\n",
       "      <th>MarkDown5</th>\n",
       "      <th>CPI</th>\n",
       "      <th>Unemployment</th>\n",
       "      <th>IsHoliday</th>\n",
       "      <th>...</th>\n",
       "      <th>Dept_94</th>\n",
       "      <th>Dept_95</th>\n",
       "      <th>Dept_96</th>\n",
       "      <th>Dept_97</th>\n",
       "      <th>Dept_98</th>\n",
       "      <th>Dept_99</th>\n",
       "      <th>Day</th>\n",
       "      <th>Year</th>\n",
       "      <th>Month</th>\n",
       "      <th>Week</th>\n",
       "    </tr>\n",
       "    <tr>\n",
       "      <th>Date</th>\n",
       "      <th></th>\n",
       "      <th></th>\n",
       "      <th></th>\n",
       "      <th></th>\n",
       "      <th></th>\n",
       "      <th></th>\n",
       "      <th></th>\n",
       "      <th></th>\n",
       "      <th></th>\n",
       "      <th></th>\n",
       "      <th></th>\n",
       "      <th></th>\n",
       "      <th></th>\n",
       "      <th></th>\n",
       "      <th></th>\n",
       "      <th></th>\n",
       "      <th></th>\n",
       "      <th></th>\n",
       "      <th></th>\n",
       "      <th></th>\n",
       "      <th></th>\n",
       "    </tr>\n",
       "  </thead>\n",
       "  <tbody>\n",
       "    <tr>\n",
       "      <th>2012-11-02</th>\n",
       "      <td>55.32</td>\n",
       "      <td>3.386</td>\n",
       "      <td>6766.44</td>\n",
       "      <td>5147.7</td>\n",
       "      <td>50.82</td>\n",
       "      <td>3639.9</td>\n",
       "      <td>2737.42</td>\n",
       "      <td>223.462779</td>\n",
       "      <td>6.573</td>\n",
       "      <td>False</td>\n",
       "      <td>...</td>\n",
       "      <td>False</td>\n",
       "      <td>False</td>\n",
       "      <td>False</td>\n",
       "      <td>False</td>\n",
       "      <td>False</td>\n",
       "      <td>False</td>\n",
       "      <td>2</td>\n",
       "      <td>2012</td>\n",
       "      <td>11</td>\n",
       "      <td>44</td>\n",
       "    </tr>\n",
       "    <tr>\n",
       "      <th>2012-11-02</th>\n",
       "      <td>55.32</td>\n",
       "      <td>3.386</td>\n",
       "      <td>6766.44</td>\n",
       "      <td>5147.7</td>\n",
       "      <td>50.82</td>\n",
       "      <td>3639.9</td>\n",
       "      <td>2737.42</td>\n",
       "      <td>223.462779</td>\n",
       "      <td>6.573</td>\n",
       "      <td>False</td>\n",
       "      <td>...</td>\n",
       "      <td>False</td>\n",
       "      <td>False</td>\n",
       "      <td>False</td>\n",
       "      <td>False</td>\n",
       "      <td>False</td>\n",
       "      <td>False</td>\n",
       "      <td>2</td>\n",
       "      <td>2012</td>\n",
       "      <td>11</td>\n",
       "      <td>44</td>\n",
       "    </tr>\n",
       "    <tr>\n",
       "      <th>2012-11-02</th>\n",
       "      <td>55.32</td>\n",
       "      <td>3.386</td>\n",
       "      <td>6766.44</td>\n",
       "      <td>5147.7</td>\n",
       "      <td>50.82</td>\n",
       "      <td>3639.9</td>\n",
       "      <td>2737.42</td>\n",
       "      <td>223.462779</td>\n",
       "      <td>6.573</td>\n",
       "      <td>False</td>\n",
       "      <td>...</td>\n",
       "      <td>False</td>\n",
       "      <td>False</td>\n",
       "      <td>False</td>\n",
       "      <td>False</td>\n",
       "      <td>False</td>\n",
       "      <td>False</td>\n",
       "      <td>2</td>\n",
       "      <td>2012</td>\n",
       "      <td>11</td>\n",
       "      <td>44</td>\n",
       "    </tr>\n",
       "    <tr>\n",
       "      <th>2012-11-02</th>\n",
       "      <td>55.32</td>\n",
       "      <td>3.386</td>\n",
       "      <td>6766.44</td>\n",
       "      <td>5147.7</td>\n",
       "      <td>50.82</td>\n",
       "      <td>3639.9</td>\n",
       "      <td>2737.42</td>\n",
       "      <td>223.462779</td>\n",
       "      <td>6.573</td>\n",
       "      <td>False</td>\n",
       "      <td>...</td>\n",
       "      <td>False</td>\n",
       "      <td>False</td>\n",
       "      <td>False</td>\n",
       "      <td>False</td>\n",
       "      <td>False</td>\n",
       "      <td>False</td>\n",
       "      <td>2</td>\n",
       "      <td>2012</td>\n",
       "      <td>11</td>\n",
       "      <td>44</td>\n",
       "    </tr>\n",
       "    <tr>\n",
       "      <th>2012-11-02</th>\n",
       "      <td>55.32</td>\n",
       "      <td>3.386</td>\n",
       "      <td>6766.44</td>\n",
       "      <td>5147.7</td>\n",
       "      <td>50.82</td>\n",
       "      <td>3639.9</td>\n",
       "      <td>2737.42</td>\n",
       "      <td>223.462779</td>\n",
       "      <td>6.573</td>\n",
       "      <td>False</td>\n",
       "      <td>...</td>\n",
       "      <td>False</td>\n",
       "      <td>False</td>\n",
       "      <td>False</td>\n",
       "      <td>False</td>\n",
       "      <td>False</td>\n",
       "      <td>False</td>\n",
       "      <td>2</td>\n",
       "      <td>2012</td>\n",
       "      <td>11</td>\n",
       "      <td>44</td>\n",
       "    </tr>\n",
       "  </tbody>\n",
       "</table>\n",
       "<p>5 rows × 141 columns</p>\n",
       "</div>"
      ],
      "text/plain": [
       "            Temperature  Fuel_Price  MarkDown1  MarkDown2  MarkDown3  \\\n",
       "Date                                                                   \n",
       "2012-11-02        55.32       3.386    6766.44     5147.7      50.82   \n",
       "2012-11-02        55.32       3.386    6766.44     5147.7      50.82   \n",
       "2012-11-02        55.32       3.386    6766.44     5147.7      50.82   \n",
       "2012-11-02        55.32       3.386    6766.44     5147.7      50.82   \n",
       "2012-11-02        55.32       3.386    6766.44     5147.7      50.82   \n",
       "\n",
       "            MarkDown4  MarkDown5         CPI  Unemployment  IsHoliday  ...  \\\n",
       "Date                                                                   ...   \n",
       "2012-11-02     3639.9    2737.42  223.462779         6.573      False  ...   \n",
       "2012-11-02     3639.9    2737.42  223.462779         6.573      False  ...   \n",
       "2012-11-02     3639.9    2737.42  223.462779         6.573      False  ...   \n",
       "2012-11-02     3639.9    2737.42  223.462779         6.573      False  ...   \n",
       "2012-11-02     3639.9    2737.42  223.462779         6.573      False  ...   \n",
       "\n",
       "            Dept_94  Dept_95  Dept_96  Dept_97  Dept_98  Dept_99  Day  Year  \\\n",
       "Date                                                                          \n",
       "2012-11-02    False    False    False    False    False    False    2  2012   \n",
       "2012-11-02    False    False    False    False    False    False    2  2012   \n",
       "2012-11-02    False    False    False    False    False    False    2  2012   \n",
       "2012-11-02    False    False    False    False    False    False    2  2012   \n",
       "2012-11-02    False    False    False    False    False    False    2  2012   \n",
       "\n",
       "            Month  Week  \n",
       "Date                     \n",
       "2012-11-02     11    44  \n",
       "2012-11-02     11    44  \n",
       "2012-11-02     11    44  \n",
       "2012-11-02     11    44  \n",
       "2012-11-02     11    44  \n",
       "\n",
       "[5 rows x 141 columns]"
      ]
     },
     "execution_count": 158,
     "metadata": {},
     "output_type": "execute_result"
    }
   ],
   "source": [
    "data_test.head()"
   ]
  },
  {
   "cell_type": "code",
   "execution_count": 159,
   "id": "d3781da8-e9a2-4805-b73e-7893ead12c94",
   "metadata": {
    "tags": []
   },
   "outputs": [
    {
     "data": {
      "text/plain": [
       "(115064, 141)"
      ]
     },
     "execution_count": 159,
     "metadata": {},
     "output_type": "execute_result"
    }
   ],
   "source": [
    "data_test.shape"
   ]
  },
  {
   "cell_type": "code",
   "execution_count": 160,
   "id": "70c02a1a-da55-4e6b-9989-f98f4fbed104",
   "metadata": {
    "tags": []
   },
   "outputs": [
    {
     "data": {
      "text/plain": [
       "CPI             38162\n",
       "Unemployment    38162\n",
       "Temperature         0\n",
       "Dept_43             0\n",
       "Dept_37             0\n",
       "                ...  \n",
       "Store_31            0\n",
       "Store_30            0\n",
       "Store_29            0\n",
       "Store_28            0\n",
       "Week                0\n",
       "Length: 141, dtype: int64"
      ]
     },
     "execution_count": 160,
     "metadata": {},
     "output_type": "execute_result"
    }
   ],
   "source": [
    "data_test.isna().sum().sort_values(ascending=False)"
   ]
  },
  {
   "cell_type": "code",
   "execution_count": 161,
   "id": "7ef1f0c6-1ba4-47fb-9cf6-34589157c2d4",
   "metadata": {
    "tags": []
   },
   "outputs": [],
   "source": [
    "data_test = data_test.fillna(data_test.mean())"
   ]
  },
  {
   "cell_type": "code",
   "execution_count": 162,
   "id": "651149e8-6d75-401b-9a74-1ef34aa79315",
   "metadata": {
    "tags": []
   },
   "outputs": [
    {
     "data": {
      "text/plain": [
       "Temperature    0\n",
       "Dept_43        0\n",
       "Dept_37        0\n",
       "Dept_38        0\n",
       "Dept_39        0\n",
       "              ..\n",
       "Store_30       0\n",
       "Store_29       0\n",
       "Store_28       0\n",
       "Store_27       0\n",
       "Week           0\n",
       "Length: 141, dtype: int64"
      ]
     },
     "execution_count": 162,
     "metadata": {},
     "output_type": "execute_result"
    }
   ],
   "source": [
    "data_test.isna().sum().sort_values(ascending=False)"
   ]
  },
  {
   "cell_type": "code",
   "execution_count": 165,
   "id": "d3cca8e6-00ac-461a-bad7-53c98360118e",
   "metadata": {
    "tags": []
   },
   "outputs": [
    {
     "name": "stderr",
     "output_type": "stream",
     "text": [
      "C:\\Users\\johng\\AppData\\Local\\Temp\\ipykernel_27988\\3504863054.py:1: PerformanceWarning:\n",
      "\n",
      "DataFrame is highly fragmented.  This is usually the result of calling `frame.insert` many times, which has poor performance.  Consider joining all columns at once using pd.concat(axis=1) instead. To get a de-fragmented frame, use `newframe = frame.copy()`\n",
      "\n"
     ]
    }
   ],
   "source": [
    "data_test.reset_index(inplace=True)"
   ]
  },
  {
   "cell_type": "code",
   "execution_count": 166,
   "id": "16a53b27-9aed-43b9-a067-fc4d46bbcb22",
   "metadata": {
    "tags": []
   },
   "outputs": [],
   "source": [
    "data_test.rename(columns = {'Weekly_Sales': 'y', 'Date': 'ds'}, inplace = True)"
   ]
  },
  {
   "cell_type": "code",
   "execution_count": 167,
   "id": "d439618a-5503-4e31-9a90-dd04017e1ea5",
   "metadata": {
    "tags": []
   },
   "outputs": [
    {
     "data": {
      "text/html": [
       "<div>\n",
       "<style scoped>\n",
       "    .dataframe tbody tr th:only-of-type {\n",
       "        vertical-align: middle;\n",
       "    }\n",
       "\n",
       "    .dataframe tbody tr th {\n",
       "        vertical-align: top;\n",
       "    }\n",
       "\n",
       "    .dataframe thead th {\n",
       "        text-align: right;\n",
       "    }\n",
       "</style>\n",
       "<table border=\"1\" class=\"dataframe\">\n",
       "  <thead>\n",
       "    <tr style=\"text-align: right;\">\n",
       "      <th></th>\n",
       "      <th>ds</th>\n",
       "      <th>Temperature</th>\n",
       "      <th>Fuel_Price</th>\n",
       "      <th>MarkDown1</th>\n",
       "      <th>MarkDown2</th>\n",
       "      <th>MarkDown3</th>\n",
       "      <th>MarkDown4</th>\n",
       "      <th>MarkDown5</th>\n",
       "      <th>CPI</th>\n",
       "      <th>Unemployment</th>\n",
       "      <th>...</th>\n",
       "      <th>Dept_94</th>\n",
       "      <th>Dept_95</th>\n",
       "      <th>Dept_96</th>\n",
       "      <th>Dept_97</th>\n",
       "      <th>Dept_98</th>\n",
       "      <th>Dept_99</th>\n",
       "      <th>Day</th>\n",
       "      <th>Year</th>\n",
       "      <th>Month</th>\n",
       "      <th>Week</th>\n",
       "    </tr>\n",
       "  </thead>\n",
       "  <tbody>\n",
       "    <tr>\n",
       "      <th>0</th>\n",
       "      <td>2012-11-02</td>\n",
       "      <td>55.32</td>\n",
       "      <td>3.386</td>\n",
       "      <td>6766.44</td>\n",
       "      <td>5147.70</td>\n",
       "      <td>50.82</td>\n",
       "      <td>3639.90</td>\n",
       "      <td>2737.42</td>\n",
       "      <td>223.462779</td>\n",
       "      <td>6.573000</td>\n",
       "      <td>...</td>\n",
       "      <td>False</td>\n",
       "      <td>False</td>\n",
       "      <td>False</td>\n",
       "      <td>False</td>\n",
       "      <td>False</td>\n",
       "      <td>False</td>\n",
       "      <td>2</td>\n",
       "      <td>2012</td>\n",
       "      <td>11</td>\n",
       "      <td>44</td>\n",
       "    </tr>\n",
       "    <tr>\n",
       "      <th>1</th>\n",
       "      <td>2012-11-02</td>\n",
       "      <td>55.32</td>\n",
       "      <td>3.386</td>\n",
       "      <td>6766.44</td>\n",
       "      <td>5147.70</td>\n",
       "      <td>50.82</td>\n",
       "      <td>3639.90</td>\n",
       "      <td>2737.42</td>\n",
       "      <td>223.462779</td>\n",
       "      <td>6.573000</td>\n",
       "      <td>...</td>\n",
       "      <td>False</td>\n",
       "      <td>False</td>\n",
       "      <td>False</td>\n",
       "      <td>False</td>\n",
       "      <td>False</td>\n",
       "      <td>False</td>\n",
       "      <td>2</td>\n",
       "      <td>2012</td>\n",
       "      <td>11</td>\n",
       "      <td>44</td>\n",
       "    </tr>\n",
       "    <tr>\n",
       "      <th>2</th>\n",
       "      <td>2012-11-02</td>\n",
       "      <td>55.32</td>\n",
       "      <td>3.386</td>\n",
       "      <td>6766.44</td>\n",
       "      <td>5147.70</td>\n",
       "      <td>50.82</td>\n",
       "      <td>3639.90</td>\n",
       "      <td>2737.42</td>\n",
       "      <td>223.462779</td>\n",
       "      <td>6.573000</td>\n",
       "      <td>...</td>\n",
       "      <td>False</td>\n",
       "      <td>False</td>\n",
       "      <td>False</td>\n",
       "      <td>False</td>\n",
       "      <td>False</td>\n",
       "      <td>False</td>\n",
       "      <td>2</td>\n",
       "      <td>2012</td>\n",
       "      <td>11</td>\n",
       "      <td>44</td>\n",
       "    </tr>\n",
       "    <tr>\n",
       "      <th>3</th>\n",
       "      <td>2012-11-02</td>\n",
       "      <td>55.32</td>\n",
       "      <td>3.386</td>\n",
       "      <td>6766.44</td>\n",
       "      <td>5147.70</td>\n",
       "      <td>50.82</td>\n",
       "      <td>3639.90</td>\n",
       "      <td>2737.42</td>\n",
       "      <td>223.462779</td>\n",
       "      <td>6.573000</td>\n",
       "      <td>...</td>\n",
       "      <td>False</td>\n",
       "      <td>False</td>\n",
       "      <td>False</td>\n",
       "      <td>False</td>\n",
       "      <td>False</td>\n",
       "      <td>False</td>\n",
       "      <td>2</td>\n",
       "      <td>2012</td>\n",
       "      <td>11</td>\n",
       "      <td>44</td>\n",
       "    </tr>\n",
       "    <tr>\n",
       "      <th>4</th>\n",
       "      <td>2012-11-02</td>\n",
       "      <td>55.32</td>\n",
       "      <td>3.386</td>\n",
       "      <td>6766.44</td>\n",
       "      <td>5147.70</td>\n",
       "      <td>50.82</td>\n",
       "      <td>3639.90</td>\n",
       "      <td>2737.42</td>\n",
       "      <td>223.462779</td>\n",
       "      <td>6.573000</td>\n",
       "      <td>...</td>\n",
       "      <td>False</td>\n",
       "      <td>False</td>\n",
       "      <td>False</td>\n",
       "      <td>False</td>\n",
       "      <td>False</td>\n",
       "      <td>False</td>\n",
       "      <td>2</td>\n",
       "      <td>2012</td>\n",
       "      <td>11</td>\n",
       "      <td>44</td>\n",
       "    </tr>\n",
       "    <tr>\n",
       "      <th>...</th>\n",
       "      <td>...</td>\n",
       "      <td>...</td>\n",
       "      <td>...</td>\n",
       "      <td>...</td>\n",
       "      <td>...</td>\n",
       "      <td>...</td>\n",
       "      <td>...</td>\n",
       "      <td>...</td>\n",
       "      <td>...</td>\n",
       "      <td>...</td>\n",
       "      <td>...</td>\n",
       "      <td>...</td>\n",
       "      <td>...</td>\n",
       "      <td>...</td>\n",
       "      <td>...</td>\n",
       "      <td>...</td>\n",
       "      <td>...</td>\n",
       "      <td>...</td>\n",
       "      <td>...</td>\n",
       "      <td>...</td>\n",
       "      <td>...</td>\n",
       "    </tr>\n",
       "    <tr>\n",
       "      <th>115059</th>\n",
       "      <td>2013-07-26</td>\n",
       "      <td>76.06</td>\n",
       "      <td>3.804</td>\n",
       "      <td>212.02</td>\n",
       "      <td>851.73</td>\n",
       "      <td>2.06</td>\n",
       "      <td>10.88</td>\n",
       "      <td>1864.57</td>\n",
       "      <td>176.961347</td>\n",
       "      <td>6.868733</td>\n",
       "      <td>...</td>\n",
       "      <td>False</td>\n",
       "      <td>False</td>\n",
       "      <td>False</td>\n",
       "      <td>False</td>\n",
       "      <td>False</td>\n",
       "      <td>False</td>\n",
       "      <td>26</td>\n",
       "      <td>2013</td>\n",
       "      <td>7</td>\n",
       "      <td>30</td>\n",
       "    </tr>\n",
       "    <tr>\n",
       "      <th>115060</th>\n",
       "      <td>2013-07-26</td>\n",
       "      <td>76.06</td>\n",
       "      <td>3.804</td>\n",
       "      <td>212.02</td>\n",
       "      <td>851.73</td>\n",
       "      <td>2.06</td>\n",
       "      <td>10.88</td>\n",
       "      <td>1864.57</td>\n",
       "      <td>176.961347</td>\n",
       "      <td>6.868733</td>\n",
       "      <td>...</td>\n",
       "      <td>True</td>\n",
       "      <td>False</td>\n",
       "      <td>False</td>\n",
       "      <td>False</td>\n",
       "      <td>False</td>\n",
       "      <td>False</td>\n",
       "      <td>26</td>\n",
       "      <td>2013</td>\n",
       "      <td>7</td>\n",
       "      <td>30</td>\n",
       "    </tr>\n",
       "    <tr>\n",
       "      <th>115061</th>\n",
       "      <td>2013-07-26</td>\n",
       "      <td>76.06</td>\n",
       "      <td>3.804</td>\n",
       "      <td>212.02</td>\n",
       "      <td>851.73</td>\n",
       "      <td>2.06</td>\n",
       "      <td>10.88</td>\n",
       "      <td>1864.57</td>\n",
       "      <td>176.961347</td>\n",
       "      <td>6.868733</td>\n",
       "      <td>...</td>\n",
       "      <td>False</td>\n",
       "      <td>True</td>\n",
       "      <td>False</td>\n",
       "      <td>False</td>\n",
       "      <td>False</td>\n",
       "      <td>False</td>\n",
       "      <td>26</td>\n",
       "      <td>2013</td>\n",
       "      <td>7</td>\n",
       "      <td>30</td>\n",
       "    </tr>\n",
       "    <tr>\n",
       "      <th>115062</th>\n",
       "      <td>2013-07-26</td>\n",
       "      <td>76.06</td>\n",
       "      <td>3.804</td>\n",
       "      <td>212.02</td>\n",
       "      <td>851.73</td>\n",
       "      <td>2.06</td>\n",
       "      <td>10.88</td>\n",
       "      <td>1864.57</td>\n",
       "      <td>176.961347</td>\n",
       "      <td>6.868733</td>\n",
       "      <td>...</td>\n",
       "      <td>False</td>\n",
       "      <td>False</td>\n",
       "      <td>False</td>\n",
       "      <td>True</td>\n",
       "      <td>False</td>\n",
       "      <td>False</td>\n",
       "      <td>26</td>\n",
       "      <td>2013</td>\n",
       "      <td>7</td>\n",
       "      <td>30</td>\n",
       "    </tr>\n",
       "    <tr>\n",
       "      <th>115063</th>\n",
       "      <td>2013-07-26</td>\n",
       "      <td>76.06</td>\n",
       "      <td>3.804</td>\n",
       "      <td>212.02</td>\n",
       "      <td>851.73</td>\n",
       "      <td>2.06</td>\n",
       "      <td>10.88</td>\n",
       "      <td>1864.57</td>\n",
       "      <td>176.961347</td>\n",
       "      <td>6.868733</td>\n",
       "      <td>...</td>\n",
       "      <td>False</td>\n",
       "      <td>False</td>\n",
       "      <td>False</td>\n",
       "      <td>False</td>\n",
       "      <td>True</td>\n",
       "      <td>False</td>\n",
       "      <td>26</td>\n",
       "      <td>2013</td>\n",
       "      <td>7</td>\n",
       "      <td>30</td>\n",
       "    </tr>\n",
       "  </tbody>\n",
       "</table>\n",
       "<p>115064 rows × 142 columns</p>\n",
       "</div>"
      ],
      "text/plain": [
       "                ds  Temperature  Fuel_Price  MarkDown1  MarkDown2  MarkDown3  \\\n",
       "0       2012-11-02        55.32       3.386    6766.44    5147.70      50.82   \n",
       "1       2012-11-02        55.32       3.386    6766.44    5147.70      50.82   \n",
       "2       2012-11-02        55.32       3.386    6766.44    5147.70      50.82   \n",
       "3       2012-11-02        55.32       3.386    6766.44    5147.70      50.82   \n",
       "4       2012-11-02        55.32       3.386    6766.44    5147.70      50.82   \n",
       "...            ...          ...         ...        ...        ...        ...   \n",
       "115059  2013-07-26        76.06       3.804     212.02     851.73       2.06   \n",
       "115060  2013-07-26        76.06       3.804     212.02     851.73       2.06   \n",
       "115061  2013-07-26        76.06       3.804     212.02     851.73       2.06   \n",
       "115062  2013-07-26        76.06       3.804     212.02     851.73       2.06   \n",
       "115063  2013-07-26        76.06       3.804     212.02     851.73       2.06   \n",
       "\n",
       "        MarkDown4  MarkDown5         CPI  Unemployment  ...  Dept_94  Dept_95  \\\n",
       "0         3639.90    2737.42  223.462779      6.573000  ...    False    False   \n",
       "1         3639.90    2737.42  223.462779      6.573000  ...    False    False   \n",
       "2         3639.90    2737.42  223.462779      6.573000  ...    False    False   \n",
       "3         3639.90    2737.42  223.462779      6.573000  ...    False    False   \n",
       "4         3639.90    2737.42  223.462779      6.573000  ...    False    False   \n",
       "...           ...        ...         ...           ...  ...      ...      ...   \n",
       "115059      10.88    1864.57  176.961347      6.868733  ...    False    False   \n",
       "115060      10.88    1864.57  176.961347      6.868733  ...     True    False   \n",
       "115061      10.88    1864.57  176.961347      6.868733  ...    False     True   \n",
       "115062      10.88    1864.57  176.961347      6.868733  ...    False    False   \n",
       "115063      10.88    1864.57  176.961347      6.868733  ...    False    False   \n",
       "\n",
       "        Dept_96  Dept_97  Dept_98  Dept_99  Day  Year  Month  Week  \n",
       "0         False    False    False    False    2  2012     11    44  \n",
       "1         False    False    False    False    2  2012     11    44  \n",
       "2         False    False    False    False    2  2012     11    44  \n",
       "3         False    False    False    False    2  2012     11    44  \n",
       "4         False    False    False    False    2  2012     11    44  \n",
       "...         ...      ...      ...      ...  ...   ...    ...   ...  \n",
       "115059    False    False    False    False   26  2013      7    30  \n",
       "115060    False    False    False    False   26  2013      7    30  \n",
       "115061    False    False    False    False   26  2013      7    30  \n",
       "115062    False     True    False    False   26  2013      7    30  \n",
       "115063    False    False     True    False   26  2013      7    30  \n",
       "\n",
       "[115064 rows x 142 columns]"
      ]
     },
     "execution_count": 167,
     "metadata": {},
     "output_type": "execute_result"
    }
   ],
   "source": [
    "data_test"
   ]
  },
  {
   "cell_type": "code",
   "execution_count": 168,
   "id": "d1ba02e1-ff68-4c46-ba7b-6a0980ddbee1",
   "metadata": {
    "tags": []
   },
   "outputs": [
    {
     "ename": "ValueError",
     "evalue": "Regressor 'Dept' missing from dataframe",
     "output_type": "error",
     "traceback": [
      "\u001b[1;31m---------------------------------------------------------------------------\u001b[0m",
      "\u001b[1;31mValueError\u001b[0m                                Traceback (most recent call last)",
      "Cell \u001b[1;32mIn[168], line 1\u001b[0m\n\u001b[1;32m----> 1\u001b[0m test_preds \u001b[38;5;241m=\u001b[39m model_fit\u001b[38;5;241m.\u001b[39mpredict(data_test)\n",
      "File \u001b[1;32m~\\anaconda3\\Lib\\site-packages\\prophet\\forecaster.py:1270\u001b[0m, in \u001b[0;36mProphet.predict\u001b[1;34m(self, df, vectorized)\u001b[0m\n\u001b[0;32m   1268\u001b[0m     \u001b[38;5;28;01mif\u001b[39;00m df\u001b[38;5;241m.\u001b[39mshape[\u001b[38;5;241m0\u001b[39m] \u001b[38;5;241m==\u001b[39m \u001b[38;5;241m0\u001b[39m:\n\u001b[0;32m   1269\u001b[0m         \u001b[38;5;28;01mraise\u001b[39;00m \u001b[38;5;167;01mValueError\u001b[39;00m(\u001b[38;5;124m'\u001b[39m\u001b[38;5;124mDataframe has no rows.\u001b[39m\u001b[38;5;124m'\u001b[39m)\n\u001b[1;32m-> 1270\u001b[0m     df \u001b[38;5;241m=\u001b[39m \u001b[38;5;28mself\u001b[39m\u001b[38;5;241m.\u001b[39msetup_dataframe(df\u001b[38;5;241m.\u001b[39mcopy())\n\u001b[0;32m   1272\u001b[0m df[\u001b[38;5;124m'\u001b[39m\u001b[38;5;124mtrend\u001b[39m\u001b[38;5;124m'\u001b[39m] \u001b[38;5;241m=\u001b[39m \u001b[38;5;28mself\u001b[39m\u001b[38;5;241m.\u001b[39mpredict_trend(df)\n\u001b[0;32m   1273\u001b[0m seasonal_components \u001b[38;5;241m=\u001b[39m \u001b[38;5;28mself\u001b[39m\u001b[38;5;241m.\u001b[39mpredict_seasonal_components(df)\n",
      "File \u001b[1;32m~\\anaconda3\\Lib\\site-packages\\prophet\\forecaster.py:297\u001b[0m, in \u001b[0;36mProphet.setup_dataframe\u001b[1;34m(self, df, initialize_scales)\u001b[0m\n\u001b[0;32m    295\u001b[0m \u001b[38;5;28;01mfor\u001b[39;00m name \u001b[38;5;129;01min\u001b[39;00m \u001b[38;5;28mself\u001b[39m\u001b[38;5;241m.\u001b[39mextra_regressors:\n\u001b[0;32m    296\u001b[0m     \u001b[38;5;28;01mif\u001b[39;00m name \u001b[38;5;129;01mnot\u001b[39;00m \u001b[38;5;129;01min\u001b[39;00m df:\n\u001b[1;32m--> 297\u001b[0m         \u001b[38;5;28;01mraise\u001b[39;00m \u001b[38;5;167;01mValueError\u001b[39;00m(\n\u001b[0;32m    298\u001b[0m             \u001b[38;5;124m'\u001b[39m\u001b[38;5;124mRegressor \u001b[39m\u001b[38;5;132;01m{name!r}\u001b[39;00m\u001b[38;5;124m missing from dataframe\u001b[39m\u001b[38;5;124m'\u001b[39m\n\u001b[0;32m    299\u001b[0m             \u001b[38;5;241m.\u001b[39mformat(name\u001b[38;5;241m=\u001b[39mname)\n\u001b[0;32m    300\u001b[0m         )\n\u001b[0;32m    301\u001b[0m     df[name] \u001b[38;5;241m=\u001b[39m pd\u001b[38;5;241m.\u001b[39mto_numeric(df[name])\n\u001b[0;32m    302\u001b[0m     \u001b[38;5;28;01mif\u001b[39;00m df[name]\u001b[38;5;241m.\u001b[39misnull()\u001b[38;5;241m.\u001b[39many():\n",
      "\u001b[1;31mValueError\u001b[0m: Regressor 'Dept' missing from dataframe"
     ]
    }
   ],
   "source": [
    "test_preds = model_fit.predict(data_test)"
   ]
  },
  {
   "cell_type": "code",
   "execution_count": null,
   "id": "9c652360-96d4-4779-bd97-4b1b835c6791",
   "metadata": {},
   "outputs": [],
   "source": []
  },
  {
   "cell_type": "code",
   "execution_count": null,
   "id": "e5ee1da8-77f2-43a2-bc5c-1ef3367e9dc9",
   "metadata": {},
   "outputs": [],
   "source": []
  },
  {
   "cell_type": "markdown",
   "id": "b7870edc-6057-4d3a-b394-41ba914b655f",
   "metadata": {},
   "source": [
    "## Submission"
   ]
  },
  {
   "cell_type": "code",
   "execution_count": null,
   "id": "885c59aa-1e47-4ba2-af36-45c83652ea4d",
   "metadata": {
    "tags": []
   },
   "outputs": [],
   "source": [
    "submission1 = pd.read_csv('data/sampleSubmission.csv')"
   ]
  },
  {
   "cell_type": "code",
   "execution_count": null,
   "id": "ff3a1865-d89f-4924-a194-3625dd6bc6ea",
   "metadata": {
    "tags": []
   },
   "outputs": [],
   "source": [
    "submission1['Weekly_Sales'] = test_preds"
   ]
  },
  {
   "cell_type": "code",
   "execution_count": null,
   "id": "21e34002-bd53-461b-ba22-fb8f96c2ba15",
   "metadata": {
    "tags": []
   },
   "outputs": [],
   "source": [
    "submission1.set_index('Id', inplace=True)"
   ]
  },
  {
   "cell_type": "code",
   "execution_count": null,
   "id": "2b8b2c20-3e01-40db-8eaa-521e93288417",
   "metadata": {
    "tags": []
   },
   "outputs": [],
   "source": [
    "submission1.to_csv('data/submission2_prophet.csv')"
   ]
  }
 ],
 "metadata": {
  "kernelspec": {
   "display_name": "Python 3 (ipykernel)",
   "language": "python",
   "name": "python3"
  },
  "language_info": {
   "codemirror_mode": {
    "name": "ipython",
    "version": 3
   },
   "file_extension": ".py",
   "mimetype": "text/x-python",
   "name": "python",
   "nbconvert_exporter": "python",
   "pygments_lexer": "ipython3",
   "version": "3.11.5"
  }
 },
 "nbformat": 4,
 "nbformat_minor": 5
}
